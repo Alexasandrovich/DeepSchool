{
 "cells": [
  {
   "cell_type": "markdown",
   "id": "1f1174cb",
   "metadata": {},
   "source": [
    "# Single Path One-Shot Neural Architecture Search using Random Search"
   ]
  },
  {
   "cell_type": "markdown",
   "id": "368eef94",
   "metadata": {},
   "source": [
    "### Make everything a bit faster"
   ]
  },
  {
   "cell_type": "markdown",
   "id": "d63906da",
   "metadata": {},
   "source": [
    "Your task is to implement SPOS + Random Search to find the optimal ResNet-18-like architecture\n",
    "for image classification on CIFAR-10 dataset.\n",
    "\n",
    "### Proposed search space\n",
    "The same search space as in the lecture, but without kernel size search.\n",
    "This means that each search block should only have 3 operations.\n",
    "\n",
    "### Latency awareness\n",
    "While searching, you should implement hard constraint on model latency. As a proxy for\n",
    "latency, use the number of MACs. The baseline ResNet-18 has 37M MACs for images of size 32x32.\n",
    "The final selected architecture should have at most 30M MACs.\n",
    "You can find an example computation for the number of MACs in this notebook.\n",
    "\n",
    "### How to complete the task\n",
    "Plan for your experiments:\n",
    "1. Train baseline ResNet-18 model.  **(2 pts)**\n",
    "2. Finalize supernet code. **(15 pts)**\n",
    "3. Train supernet with the same hyperparameters except the number of epochs. You should increase\n",
    "   it by a factor of 3-6. Save supernet weights.  **(10 pts)**\n",
    "4. Write implementation for Random Search.  **(10 pts)**\n",
    "5. Run it for 100-1000 iterations by measuring accuracies of models from the supernet.\n",
    "   Keep track of each model accuracy and latency.  **(5 pts)**\n",
    "6. Train the best architecture from scratch. For this, you can build the whole supernet, and\n",
    "   select this architecture for all the forward passes of the training.  **(6 pts)**\n",
    "7. Compare with the model from step 1. Does your model have a better accuracy?  **(2 pts)**\n",
    "\n",
    "### Code structure\n",
    "\n",
    "Main.ipynb - Learn your neural networks here.\n",
    "\n",
    "resnet.py - ResNet-18 implementation from torchvision, simplified for this project.\n",
    "\n",
    "supernet.py - Unfinished Supernet implementation.\n",
    "\n",
    "cifar10.py - Transforms for CIFAR-10 training.\n"
   ]
  },
  {
   "cell_type": "markdown",
   "id": "623b67ad",
   "metadata": {},
   "source": [
    "## Setup"
   ]
  },
  {
   "cell_type": "markdown",
   "id": "58f0fd3f",
   "metadata": {},
   "source": [
    "Before you begin, make sure to install torch, torchvision, numpy, thop and tqdm libraries."
   ]
  },
  {
   "cell_type": "code",
   "id": "4b276c43",
   "metadata": {
    "ExecuteTime": {
     "end_time": "2025-03-10T19:44:20.173801Z",
     "start_time": "2025-03-10T19:44:18.381109Z"
    }
   },
   "source": [
    "!pip install torch torchvision numpy thop tqdm"
   ],
   "outputs": [
    {
     "name": "stdout",
     "output_type": "stream",
     "text": [
      "Looking in indexes: https://pypi.org/simple, https://pypi.ngc.nvidia.com\r\n",
      "Requirement already satisfied: torch in /home/hflabs/anaconda3/envs/ds/lib/python3.8/site-packages (2.4.1)\r\n",
      "Requirement already satisfied: torchvision in /home/hflabs/anaconda3/envs/ds/lib/python3.8/site-packages (0.19.1)\r\n",
      "Requirement already satisfied: numpy in /home/hflabs/anaconda3/envs/ds/lib/python3.8/site-packages (1.24.4)\r\n",
      "Requirement already satisfied: thop in /home/hflabs/anaconda3/envs/ds/lib/python3.8/site-packages (0.1.1.post2209072238)\r\n",
      "Requirement already satisfied: tqdm in /home/hflabs/anaconda3/envs/ds/lib/python3.8/site-packages (4.67.1)\r\n",
      "Requirement already satisfied: filelock in /home/hflabs/anaconda3/envs/ds/lib/python3.8/site-packages (from torch) (3.16.1)\r\n",
      "Requirement already satisfied: typing-extensions>=4.8.0 in /home/hflabs/anaconda3/envs/ds/lib/python3.8/site-packages (from torch) (4.12.2)\r\n",
      "Requirement already satisfied: sympy in /home/hflabs/anaconda3/envs/ds/lib/python3.8/site-packages (from torch) (1.13.3)\r\n",
      "Requirement already satisfied: networkx in /home/hflabs/anaconda3/envs/ds/lib/python3.8/site-packages (from torch) (3.1)\r\n",
      "Requirement already satisfied: jinja2 in /home/hflabs/anaconda3/envs/ds/lib/python3.8/site-packages (from torch) (3.1.5)\r\n",
      "Requirement already satisfied: fsspec in /home/hflabs/anaconda3/envs/ds/lib/python3.8/site-packages (from torch) (2024.9.0)\r\n",
      "Requirement already satisfied: nvidia-cuda-nvrtc-cu12==12.1.105 in /home/hflabs/anaconda3/envs/ds/lib/python3.8/site-packages (from torch) (12.1.105)\r\n",
      "Requirement already satisfied: nvidia-cuda-runtime-cu12==12.1.105 in /home/hflabs/anaconda3/envs/ds/lib/python3.8/site-packages (from torch) (12.1.105)\r\n",
      "Requirement already satisfied: nvidia-cuda-cupti-cu12==12.1.105 in /home/hflabs/anaconda3/envs/ds/lib/python3.8/site-packages (from torch) (12.1.105)\r\n",
      "Requirement already satisfied: nvidia-cudnn-cu12==9.1.0.70 in /home/hflabs/anaconda3/envs/ds/lib/python3.8/site-packages (from torch) (9.1.0.70)\r\n",
      "Requirement already satisfied: nvidia-cublas-cu12==12.1.3.1 in /home/hflabs/anaconda3/envs/ds/lib/python3.8/site-packages (from torch) (12.1.3.1)\r\n",
      "Requirement already satisfied: nvidia-cufft-cu12==11.0.2.54 in /home/hflabs/anaconda3/envs/ds/lib/python3.8/site-packages (from torch) (11.0.2.54)\r\n",
      "Requirement already satisfied: nvidia-curand-cu12==10.3.2.106 in /home/hflabs/anaconda3/envs/ds/lib/python3.8/site-packages (from torch) (10.3.2.106)\r\n",
      "Requirement already satisfied: nvidia-cusolver-cu12==11.4.5.107 in /home/hflabs/anaconda3/envs/ds/lib/python3.8/site-packages (from torch) (11.4.5.107)\r\n",
      "Requirement already satisfied: nvidia-cusparse-cu12==12.1.0.106 in /home/hflabs/anaconda3/envs/ds/lib/python3.8/site-packages (from torch) (12.1.0.106)\r\n",
      "Requirement already satisfied: nvidia-nccl-cu12==2.20.5 in /home/hflabs/anaconda3/envs/ds/lib/python3.8/site-packages (from torch) (2.20.5)\r\n",
      "Requirement already satisfied: nvidia-nvtx-cu12==12.1.105 in /home/hflabs/anaconda3/envs/ds/lib/python3.8/site-packages (from torch) (12.1.105)\r\n",
      "Requirement already satisfied: triton==3.0.0 in /home/hflabs/anaconda3/envs/ds/lib/python3.8/site-packages (from torch) (3.0.0)\r\n",
      "Requirement already satisfied: nvidia-nvjitlink-cu12 in /home/hflabs/anaconda3/envs/ds/lib/python3.8/site-packages (from nvidia-cusolver-cu12==11.4.5.107->torch) (12.8.61)\r\n",
      "Requirement already satisfied: pillow!=8.3.*,>=5.3.0 in /home/hflabs/anaconda3/envs/ds/lib/python3.8/site-packages (from torchvision) (10.4.0)\r\n",
      "Requirement already satisfied: MarkupSafe>=2.0 in /home/hflabs/anaconda3/envs/ds/lib/python3.8/site-packages (from jinja2->torch) (2.1.5)\r\n",
      "Requirement already satisfied: mpmath<1.4,>=1.1.0 in /home/hflabs/anaconda3/envs/ds/lib/python3.8/site-packages (from sympy->torch) (1.3.0)\r\n"
     ]
    }
   ],
   "execution_count": 1
  },
  {
   "cell_type": "markdown",
   "id": "d45e2d25",
   "metadata": {},
   "source": [
    "### Imports"
   ]
  },
  {
   "cell_type": "code",
   "id": "d4ba7167",
   "metadata": {
    "ExecuteTime": {
     "end_time": "2025-03-10T20:00:08.467101Z",
     "start_time": "2025-03-10T20:00:07.078974Z"
    }
   },
   "source": [
    "from typing import Tuple\n",
    "\n",
    "import torch\n",
    "import torch.nn as nn\n",
    "import torch.optim as optim\n",
    "import torchvision\n",
    "import torchvision.transforms as transforms\n",
    "from thop import profile\n",
    "from torch.utils.data import DataLoader\n",
    "from tqdm import tqdm\n",
    "\n",
    "from cifar10 import get_train_transform, get_val_transform\n",
    "from resnet import resnet18"
   ],
   "outputs": [],
   "execution_count": 1
  },
  {
   "cell_type": "markdown",
   "id": "11c9e40b",
   "metadata": {},
   "source": [
    "### Make everything a bit faster"
   ]
  },
  {
   "cell_type": "code",
   "id": "32970714",
   "metadata": {
    "ExecuteTime": {
     "end_time": "2025-03-10T20:00:08.477929Z",
     "start_time": "2025-03-10T20:00:08.472188Z"
    }
   },
   "source": [
    "torch.backends.cudnn.benchmark = True\n",
    "torch.backends.cudnn.deterministic = False"
   ],
   "outputs": [],
   "execution_count": 2
  },
  {
   "cell_type": "markdown",
   "id": "429fa228",
   "metadata": {},
   "source": [
    "### Build datasets and dataloaders for CIFAR-10"
   ]
  },
  {
   "cell_type": "code",
   "id": "b92e57ff",
   "metadata": {
    "ExecuteTime": {
     "end_time": "2025-03-10T20:00:13.138121Z",
     "start_time": "2025-03-10T20:00:13.136100Z"
    }
   },
   "source": [
    "# Change this value if needed.\n",
    "batch_size = 2048"
   ],
   "outputs": [],
   "execution_count": 3
  },
  {
   "cell_type": "code",
   "id": "0aed8f9e",
   "metadata": {
    "ExecuteTime": {
     "end_time": "2025-03-10T20:00:15.813548Z",
     "start_time": "2025-03-10T20:00:14.712725Z"
    }
   },
   "source": [
    "train_transform = get_train_transform()\n",
    "val_transform = get_val_transform()\n",
    "\n",
    "train_set = torchvision.datasets.CIFAR10(\n",
    "    root='./data',\n",
    "    train=True,\n",
    "    download=True,\n",
    "    transform=train_transform,\n",
    ")\n",
    "test_set = torchvision.datasets.CIFAR10(\n",
    "    root='./data',\n",
    "    train=False,\n",
    "    download=True,\n",
    "    transform=val_transform,\n",
    ")\n",
    "\n",
    "train_dataloader = DataLoader(\n",
    "    train_set,\n",
    "    batch_size=batch_size,\n",
    "    shuffle=True,\n",
    "    num_workers=4,\n",
    "    drop_last=True,\n",
    ")\n",
    "test_dataloader = DataLoader(\n",
    "    test_set,\n",
    "    batch_size=batch_size,\n",
    "    shuffle=False,\n",
    "    num_workers=4,\n",
    "    drop_last=False,\n",
    ")"
   ],
   "outputs": [
    {
     "name": "stdout",
     "output_type": "stream",
     "text": [
      "Files already downloaded and verified\n",
      "Files already downloaded and verified\n"
     ]
    }
   ],
   "execution_count": 4
  },
  {
   "cell_type": "markdown",
   "id": "cc7a2e7e",
   "metadata": {},
   "source": [
    "## Create your baseline model"
   ]
  },
  {
   "cell_type": "code",
   "id": "7769c967",
   "metadata": {
    "ExecuteTime": {
     "end_time": "2025-03-10T20:00:17.937754Z",
     "start_time": "2025-03-10T20:00:17.935468Z"
    }
   },
   "source": [
    "# Select suitable device.\n",
    "# You should probably use either cuda (NVidia GPU) or mps (Apple) backend.\n",
    "device = torch.device('cuda:0')"
   ],
   "outputs": [],
   "execution_count": 5
  },
  {
   "cell_type": "code",
   "id": "404e7019",
   "metadata": {
    "ExecuteTime": {
     "end_time": "2025-03-10T20:00:19.472671Z",
     "start_time": "2025-03-10T20:00:19.284459Z"
    }
   },
   "source": [
    "model = resnet18(num_classes=10, zero_init_residual=True)\n",
    "model.to(device=device)"
   ],
   "outputs": [
    {
     "data": {
      "text/plain": [
       "ResNet(\n",
       "  (conv1): Conv2d(3, 64, kernel_size=(7, 7), stride=(2, 2), padding=(3, 3), bias=False)\n",
       "  (bn1): BatchNorm2d(64, eps=1e-05, momentum=0.1, affine=True, track_running_stats=True)\n",
       "  (relu): ReLU(inplace=True)\n",
       "  (maxpool): MaxPool2d(kernel_size=3, stride=2, padding=1, dilation=1, ceil_mode=False)\n",
       "  (layer1): Sequential(\n",
       "    (0): BasicBlock(\n",
       "      (conv1): Conv2d(64, 64, kernel_size=(3, 3), stride=(1, 1), padding=(1, 1), bias=False)\n",
       "      (bn1): BatchNorm2d(64, eps=1e-05, momentum=0.1, affine=True, track_running_stats=True)\n",
       "      (relu): ReLU(inplace=True)\n",
       "      (conv2): Conv2d(64, 64, kernel_size=(3, 3), stride=(1, 1), padding=(1, 1), bias=False)\n",
       "      (bn2): BatchNorm2d(64, eps=1e-05, momentum=0.1, affine=True, track_running_stats=True)\n",
       "    )\n",
       "    (1): BasicBlock(\n",
       "      (conv1): Conv2d(64, 64, kernel_size=(3, 3), stride=(1, 1), padding=(1, 1), bias=False)\n",
       "      (bn1): BatchNorm2d(64, eps=1e-05, momentum=0.1, affine=True, track_running_stats=True)\n",
       "      (relu): ReLU(inplace=True)\n",
       "      (conv2): Conv2d(64, 64, kernel_size=(3, 3), stride=(1, 1), padding=(1, 1), bias=False)\n",
       "      (bn2): BatchNorm2d(64, eps=1e-05, momentum=0.1, affine=True, track_running_stats=True)\n",
       "    )\n",
       "  )\n",
       "  (layer2): Sequential(\n",
       "    (0): BasicBlock(\n",
       "      (conv1): Conv2d(64, 128, kernel_size=(3, 3), stride=(2, 2), padding=(1, 1), bias=False)\n",
       "      (bn1): BatchNorm2d(128, eps=1e-05, momentum=0.1, affine=True, track_running_stats=True)\n",
       "      (relu): ReLU(inplace=True)\n",
       "      (conv2): Conv2d(128, 128, kernel_size=(3, 3), stride=(1, 1), padding=(1, 1), bias=False)\n",
       "      (bn2): BatchNorm2d(128, eps=1e-05, momentum=0.1, affine=True, track_running_stats=True)\n",
       "      (downsample): Sequential(\n",
       "        (0): Conv2d(64, 128, kernel_size=(1, 1), stride=(2, 2), bias=False)\n",
       "        (1): BatchNorm2d(128, eps=1e-05, momentum=0.1, affine=True, track_running_stats=True)\n",
       "      )\n",
       "    )\n",
       "    (1): BasicBlock(\n",
       "      (conv1): Conv2d(128, 128, kernel_size=(3, 3), stride=(1, 1), padding=(1, 1), bias=False)\n",
       "      (bn1): BatchNorm2d(128, eps=1e-05, momentum=0.1, affine=True, track_running_stats=True)\n",
       "      (relu): ReLU(inplace=True)\n",
       "      (conv2): Conv2d(128, 128, kernel_size=(3, 3), stride=(1, 1), padding=(1, 1), bias=False)\n",
       "      (bn2): BatchNorm2d(128, eps=1e-05, momentum=0.1, affine=True, track_running_stats=True)\n",
       "    )\n",
       "  )\n",
       "  (layer3): Sequential(\n",
       "    (0): BasicBlock(\n",
       "      (conv1): Conv2d(128, 256, kernel_size=(3, 3), stride=(2, 2), padding=(1, 1), bias=False)\n",
       "      (bn1): BatchNorm2d(256, eps=1e-05, momentum=0.1, affine=True, track_running_stats=True)\n",
       "      (relu): ReLU(inplace=True)\n",
       "      (conv2): Conv2d(256, 256, kernel_size=(3, 3), stride=(1, 1), padding=(1, 1), bias=False)\n",
       "      (bn2): BatchNorm2d(256, eps=1e-05, momentum=0.1, affine=True, track_running_stats=True)\n",
       "      (downsample): Sequential(\n",
       "        (0): Conv2d(128, 256, kernel_size=(1, 1), stride=(2, 2), bias=False)\n",
       "        (1): BatchNorm2d(256, eps=1e-05, momentum=0.1, affine=True, track_running_stats=True)\n",
       "      )\n",
       "    )\n",
       "    (1): BasicBlock(\n",
       "      (conv1): Conv2d(256, 256, kernel_size=(3, 3), stride=(1, 1), padding=(1, 1), bias=False)\n",
       "      (bn1): BatchNorm2d(256, eps=1e-05, momentum=0.1, affine=True, track_running_stats=True)\n",
       "      (relu): ReLU(inplace=True)\n",
       "      (conv2): Conv2d(256, 256, kernel_size=(3, 3), stride=(1, 1), padding=(1, 1), bias=False)\n",
       "      (bn2): BatchNorm2d(256, eps=1e-05, momentum=0.1, affine=True, track_running_stats=True)\n",
       "    )\n",
       "  )\n",
       "  (layer4): Sequential(\n",
       "    (0): BasicBlock(\n",
       "      (conv1): Conv2d(256, 512, kernel_size=(3, 3), stride=(2, 2), padding=(1, 1), bias=False)\n",
       "      (bn1): BatchNorm2d(512, eps=1e-05, momentum=0.1, affine=True, track_running_stats=True)\n",
       "      (relu): ReLU(inplace=True)\n",
       "      (conv2): Conv2d(512, 512, kernel_size=(3, 3), stride=(1, 1), padding=(1, 1), bias=False)\n",
       "      (bn2): BatchNorm2d(512, eps=1e-05, momentum=0.1, affine=True, track_running_stats=True)\n",
       "      (downsample): Sequential(\n",
       "        (0): Conv2d(256, 512, kernel_size=(1, 1), stride=(2, 2), bias=False)\n",
       "        (1): BatchNorm2d(512, eps=1e-05, momentum=0.1, affine=True, track_running_stats=True)\n",
       "      )\n",
       "    )\n",
       "    (1): BasicBlock(\n",
       "      (conv1): Conv2d(512, 512, kernel_size=(3, 3), stride=(1, 1), padding=(1, 1), bias=False)\n",
       "      (bn1): BatchNorm2d(512, eps=1e-05, momentum=0.1, affine=True, track_running_stats=True)\n",
       "      (relu): ReLU(inplace=True)\n",
       "      (conv2): Conv2d(512, 512, kernel_size=(3, 3), stride=(1, 1), padding=(1, 1), bias=False)\n",
       "      (bn2): BatchNorm2d(512, eps=1e-05, momentum=0.1, affine=True, track_running_stats=True)\n",
       "    )\n",
       "  )\n",
       "  (avgpool): AdaptiveAvgPool2d(output_size=(1, 1))\n",
       "  (fc): Linear(in_features=512, out_features=10, bias=True)\n",
       ")"
      ]
     },
     "execution_count": 6,
     "metadata": {},
     "output_type": "execute_result"
    }
   ],
   "execution_count": 6
  },
  {
   "cell_type": "markdown",
   "id": "56e78f87",
   "metadata": {},
   "source": [
    "### Compute the number of MACs and parameters for the model"
   ]
  },
  {
   "cell_type": "code",
   "id": "df5abcb3",
   "metadata": {
    "ExecuteTime": {
     "end_time": "2025-03-10T20:00:22.133739Z",
     "start_time": "2025-03-10T20:00:21.934534Z"
    }
   },
   "source": [
    "macs, params = profile(model, inputs=(torch.zeros(1, 3, 32, 32, device=device),))\n",
    "print(f'Number of macs: {macs / 1e6:.2f}M, number of parameters: {params / 1e6:.2f}M')"
   ],
   "outputs": [
    {
     "name": "stdout",
     "output_type": "stream",
     "text": [
      "[INFO] Register count_convNd() for <class 'torch.nn.modules.conv.Conv2d'>.\n",
      "[INFO] Register count_normalization() for <class 'torch.nn.modules.batchnorm.BatchNorm2d'>.\n",
      "[INFO] Register zero_ops() for <class 'torch.nn.modules.activation.ReLU'>.\n",
      "[INFO] Register zero_ops() for <class 'torch.nn.modules.pooling.MaxPool2d'>.\n",
      "[INFO] Register zero_ops() for <class 'torch.nn.modules.container.Sequential'>.\n",
      "[INFO] Register count_adap_avgpool() for <class 'torch.nn.modules.pooling.AdaptiveAvgPool2d'>.\n",
      "[INFO] Register count_linear() for <class 'torch.nn.modules.linear.Linear'>.\n",
      "Number of macs: 37.22M, number of parameters: 11.18M\n"
     ]
    }
   ],
   "execution_count": 7
  },
  {
   "cell_type": "markdown",
   "id": "c91b63ff",
   "metadata": {},
   "source": [
    "## Train baseline model"
   ]
  },
  {
   "cell_type": "markdown",
   "id": "564d28bd",
   "metadata": {},
   "source": [
    "### Define loss function"
   ]
  },
  {
   "cell_type": "code",
   "id": "adb69e9d",
   "metadata": {
    "ExecuteTime": {
     "end_time": "2025-03-10T20:00:24.552321Z",
     "start_time": "2025-03-10T20:00:24.550125Z"
    }
   },
   "source": [
    "criterion = nn.CrossEntropyLoss()"
   ],
   "outputs": [],
   "execution_count": 8
  },
  {
   "cell_type": "markdown",
   "id": "31a17ef6",
   "metadata": {},
   "source": [
    "### Select hyperparameters"
   ]
  },
  {
   "cell_type": "code",
   "id": "c73bcfa6",
   "metadata": {
    "ExecuteTime": {
     "end_time": "2025-03-10T20:00:26.631247Z",
     "start_time": "2025-03-10T20:00:26.628057Z"
    }
   },
   "source": [
    "lr = 0.25\n",
    "weight_decay = 5e-4\n",
    "momentum = 0.9\n",
    "n_epochs = 20  # Longer training gives better results, but let's keep baseline model epochs to 20."
   ],
   "outputs": [],
   "execution_count": 10
  },
  {
   "cell_type": "markdown",
   "id": "365a88db",
   "metadata": {},
   "source": [
    "### Build optimizer and scheduler"
   ]
  },
  {
   "cell_type": "code",
   "id": "701d2df3",
   "metadata": {
    "ExecuteTime": {
     "end_time": "2025-03-10T20:00:27.277797Z",
     "start_time": "2025-03-10T20:00:27.273843Z"
    }
   },
   "source": [
    "optimizer = optim.SGD(model.parameters(), lr=lr, weight_decay=weight_decay, momentum=momentum)\n",
    "scheduler = optim.lr_scheduler.CosineAnnealingLR(optimizer, T_max=len(train_dataloader) * n_epochs)"
   ],
   "outputs": [],
   "execution_count": 11
  },
  {
   "cell_type": "markdown",
   "id": "d01dec24",
   "metadata": {},
   "source": [
    "### Define training and evaluation functions"
   ]
  },
  {
   "cell_type": "code",
   "id": "cc6e0b44",
   "metadata": {
    "ExecuteTime": {
     "end_time": "2025-03-10T20:00:28.187830Z",
     "start_time": "2025-03-10T20:00:28.181435Z"
    }
   },
   "source": [
    "def train_one_epoch(\n",
    "        model: nn.Module,\n",
    "        criterion: nn.Module,\n",
    "        dataloader: DataLoader,\n",
    "        optimizer: optim.Optimizer,\n",
    "        scheduler,\n",
    "        device: torch.device,\n",
    "        epoch: int,\n",
    ") -> Tuple[float, float]:\n",
    "    model.train()\n",
    "\n",
    "    total_loss = 0.0\n",
    "    total_correct = 0.0\n",
    "    total_samples = 0\n",
    "\n",
    "    wrapped_dataloader = tqdm(enumerate(dataloader), total=len(dataloader))\n",
    "    for i, (inputs, labels) in wrapped_dataloader:\n",
    "        inputs = inputs.to(device=device)\n",
    "        labels = labels.to(device=device)\n",
    "\n",
    "        optimizer.zero_grad()\n",
    "\n",
    "        logits = model(inputs)\n",
    "        loss = criterion(logits, labels)\n",
    "        loss.backward()\n",
    "        optimizer.step()\n",
    "        scheduler.step()\n",
    "\n",
    "        with torch.no_grad():\n",
    "            _, predicted_labels = torch.max(logits, 1)\n",
    "            total_loss += loss.item()\n",
    "            total_correct += (predicted_labels == labels).sum().item()\n",
    "            total_samples += labels.shape[0]\n",
    "\n",
    "        wrapped_dataloader.set_description(\n",
    "            f'(train) Epoch={epoch}, lr={scheduler.get_last_lr()[0]:.4f} loss={total_loss / (i + 1):.3f}'\n",
    "        )\n",
    "\n",
    "    return total_loss / len(dataloader), total_correct / total_samples\n",
    "\n",
    "\n",
    "@torch.no_grad()\n",
    "def validate_one_epoch(\n",
    "        model: nn.Module,\n",
    "        criterion: nn.Module,\n",
    "        dataloader: DataLoader,\n",
    "        device: torch.device,\n",
    "        epoch: int,\n",
    ") -> Tuple[float, float]:\n",
    "    model.eval()\n",
    "\n",
    "    total_loss = 0.0\n",
    "    total_correct = 0.0\n",
    "    total_samples = 0\n",
    "\n",
    "    wrapped_dataloader = tqdm(enumerate(dataloader), total=len(dataloader))\n",
    "    for i, (inputs, labels) in wrapped_dataloader:\n",
    "        inputs = inputs.to(device=device)\n",
    "        labels = labels.to(device=device)\n",
    "\n",
    "        logits = model(inputs)\n",
    "        loss = criterion(logits, labels)\n",
    "        _, predicted_labels = torch.max(logits, 1)\n",
    "        total_loss += loss.item()\n",
    "        total_correct += (predicted_labels == labels).sum().item()\n",
    "        total_samples += labels.shape[0]\n",
    "\n",
    "        wrapped_dataloader.set_description(f'(val) Epoch={epoch}, loss={total_loss / (i + 1):.3f}')\n",
    "\n",
    "    return total_loss / len(dataloader), total_correct / total_samples"
   ],
   "outputs": [],
   "execution_count": 12
  },
  {
   "cell_type": "markdown",
   "id": "15c3ea7d",
   "metadata": {},
   "source": [
    "### Run training"
   ]
  },
  {
   "cell_type": "code",
   "id": "682721bf",
   "metadata": {
    "ExecuteTime": {
     "end_time": "2025-03-10T20:01:45.919884Z",
     "start_time": "2025-03-10T20:00:30.140268Z"
    }
   },
   "source": [
    "for epoch in range(n_epochs):\n",
    "    print(f'Epoch: {epoch}')\n",
    "    loss, accuracy = train_one_epoch(model, criterion, train_dataloader, optimizer, scheduler, device, epoch)\n",
    "    print(f'train_loss={loss:.4f}, train_accuracy={accuracy:.3%}')\n",
    "    loss, accuracy = validate_one_epoch(model, criterion, test_dataloader, device, epoch)\n",
    "    print(f'test_loss={loss:.4f}, test_accuracy={accuracy:.3%}')"
   ],
   "outputs": [
    {
     "name": "stdout",
     "output_type": "stream",
     "text": [
      "Epoch: 0\n"
     ]
    },
    {
     "name": "stderr",
     "output_type": "stream",
     "text": [
      "(train) Epoch=0, lr=0.2485 loss=2.438: 100%|██████████| 24/24 [00:04<00:00,  6.00it/s]"
     ]
    },
    {
     "name": "stdout",
     "output_type": "stream",
     "text": [
      "train_loss=2.4383, train_accuracy=15.466%\n"
     ]
    },
    {
     "name": "stderr",
     "output_type": "stream",
     "text": [
      "\n",
      "(val) Epoch=0, loss=2.250: 100%|██████████| 5/5 [00:00<00:00,  5.21it/s]"
     ]
    },
    {
     "name": "stdout",
     "output_type": "stream",
     "text": [
      "test_loss=2.2498, test_accuracy=18.220%\n",
      "Epoch: 1\n"
     ]
    },
    {
     "name": "stderr",
     "output_type": "stream",
     "text": [
      "\n",
      "(train) Epoch=1, lr=0.2439 loss=1.961: 100%|██████████| 24/24 [00:03<00:00,  7.85it/s]"
     ]
    },
    {
     "name": "stdout",
     "output_type": "stream",
     "text": [
      "train_loss=1.9612, train_accuracy=27.061%\n"
     ]
    },
    {
     "name": "stderr",
     "output_type": "stream",
     "text": [
      "\n",
      "(val) Epoch=1, loss=1.677: 100%|██████████| 5/5 [00:00<00:00, 10.04it/s]"
     ]
    },
    {
     "name": "stdout",
     "output_type": "stream",
     "text": [
      "test_loss=1.6774, test_accuracy=38.130%\n",
      "Epoch: 2\n"
     ]
    },
    {
     "name": "stderr",
     "output_type": "stream",
     "text": [
      "\n",
      "(train) Epoch=2, lr=0.2364 loss=1.610: 100%|██████████| 24/24 [00:03<00:00,  7.84it/s]"
     ]
    },
    {
     "name": "stdout",
     "output_type": "stream",
     "text": [
      "train_loss=1.6102, train_accuracy=40.249%\n"
     ]
    },
    {
     "name": "stderr",
     "output_type": "stream",
     "text": [
      "\n",
      "(val) Epoch=2, loss=1.457: 100%|██████████| 5/5 [00:00<00:00,  9.12it/s]"
     ]
    },
    {
     "name": "stdout",
     "output_type": "stream",
     "text": [
      "test_loss=1.4567, test_accuracy=46.390%\n",
      "Epoch: 3\n"
     ]
    },
    {
     "name": "stderr",
     "output_type": "stream",
     "text": [
      "\n",
      "(train) Epoch=3, lr=0.2261 loss=1.441: 100%|██████████| 24/24 [00:03<00:00,  7.94it/s]"
     ]
    },
    {
     "name": "stdout",
     "output_type": "stream",
     "text": [
      "train_loss=1.4414, train_accuracy=47.078%\n"
     ]
    },
    {
     "name": "stderr",
     "output_type": "stream",
     "text": [
      "\n",
      "(val) Epoch=3, loss=1.314: 100%|██████████| 5/5 [00:00<00:00,  9.54it/s]"
     ]
    },
    {
     "name": "stdout",
     "output_type": "stream",
     "text": [
      "test_loss=1.3144, test_accuracy=51.600%\n",
      "Epoch: 4\n"
     ]
    },
    {
     "name": "stderr",
     "output_type": "stream",
     "text": [
      "\n",
      "(train) Epoch=4, lr=0.2134 loss=1.320: 100%|██████████| 24/24 [00:03<00:00,  7.64it/s]"
     ]
    },
    {
     "name": "stdout",
     "output_type": "stream",
     "text": [
      "train_loss=1.3205, train_accuracy=52.028%\n"
     ]
    },
    {
     "name": "stderr",
     "output_type": "stream",
     "text": [
      "\n",
      "(val) Epoch=4, loss=1.261: 100%|██████████| 5/5 [00:00<00:00,  9.70it/s]"
     ]
    },
    {
     "name": "stdout",
     "output_type": "stream",
     "text": [
      "test_loss=1.2611, test_accuracy=53.290%\n",
      "Epoch: 5\n"
     ]
    },
    {
     "name": "stderr",
     "output_type": "stream",
     "text": [
      "\n",
      "(train) Epoch=5, lr=0.1985 loss=1.236: 100%|██████████| 24/24 [00:03<00:00,  7.84it/s]"
     ]
    },
    {
     "name": "stdout",
     "output_type": "stream",
     "text": [
      "train_loss=1.2356, train_accuracy=55.290%\n"
     ]
    },
    {
     "name": "stderr",
     "output_type": "stream",
     "text": [
      "\n",
      "(val) Epoch=5, loss=1.302: 100%|██████████| 5/5 [00:00<00:00,  9.99it/s]"
     ]
    },
    {
     "name": "stdout",
     "output_type": "stream",
     "text": [
      "test_loss=1.3016, test_accuracy=55.680%\n",
      "Epoch: 6\n"
     ]
    },
    {
     "name": "stderr",
     "output_type": "stream",
     "text": [
      "\n",
      "(train) Epoch=6, lr=0.1817 loss=1.148: 100%|██████████| 24/24 [00:03<00:00,  7.94it/s]"
     ]
    },
    {
     "name": "stdout",
     "output_type": "stream",
     "text": [
      "train_loss=1.1481, train_accuracy=58.677%\n"
     ]
    },
    {
     "name": "stderr",
     "output_type": "stream",
     "text": [
      "\n",
      "(val) Epoch=6, loss=1.050: 100%|██████████| 5/5 [00:00<00:00,  9.47it/s]"
     ]
    },
    {
     "name": "stdout",
     "output_type": "stream",
     "text": [
      "test_loss=1.0504, test_accuracy=63.070%\n",
      "Epoch: 7\n"
     ]
    },
    {
     "name": "stderr",
     "output_type": "stream",
     "text": [
      "\n",
      "(train) Epoch=7, lr=0.1636 loss=1.059: 100%|██████████| 24/24 [00:02<00:00,  8.04it/s]"
     ]
    },
    {
     "name": "stdout",
     "output_type": "stream",
     "text": [
      "train_loss=1.0587, train_accuracy=62.115%\n"
     ]
    },
    {
     "name": "stderr",
     "output_type": "stream",
     "text": [
      "\n",
      "(val) Epoch=7, loss=1.064: 100%|██████████| 5/5 [00:00<00:00,  8.85it/s]"
     ]
    },
    {
     "name": "stdout",
     "output_type": "stream",
     "text": [
      "test_loss=1.0636, test_accuracy=62.430%\n",
      "Epoch: 8\n"
     ]
    },
    {
     "name": "stderr",
     "output_type": "stream",
     "text": [
      "\n",
      "(train) Epoch=8, lr=0.1446 loss=0.989: 100%|██████████| 24/24 [00:03<00:00,  7.39it/s]"
     ]
    },
    {
     "name": "stdout",
     "output_type": "stream",
     "text": [
      "train_loss=0.9885, train_accuracy=64.705%\n"
     ]
    },
    {
     "name": "stderr",
     "output_type": "stream",
     "text": [
      "\n",
      "(val) Epoch=8, loss=1.028: 100%|██████████| 5/5 [00:00<00:00,  9.87it/s]"
     ]
    },
    {
     "name": "stdout",
     "output_type": "stream",
     "text": [
      "test_loss=1.0279, test_accuracy=63.020%\n",
      "Epoch: 9\n"
     ]
    },
    {
     "name": "stderr",
     "output_type": "stream",
     "text": [
      "\n",
      "(train) Epoch=9, lr=0.1250 loss=0.929: 100%|██████████| 24/24 [00:03<00:00,  7.68it/s]"
     ]
    },
    {
     "name": "stdout",
     "output_type": "stream",
     "text": [
      "train_loss=0.9289, train_accuracy=66.980%\n"
     ]
    },
    {
     "name": "stderr",
     "output_type": "stream",
     "text": [
      "\n",
      "(val) Epoch=9, loss=0.895: 100%|██████████| 5/5 [00:00<00:00,  9.68it/s]"
     ]
    },
    {
     "name": "stdout",
     "output_type": "stream",
     "text": [
      "test_loss=0.8946, test_accuracy=68.200%\n",
      "Epoch: 10\n"
     ]
    },
    {
     "name": "stderr",
     "output_type": "stream",
     "text": [
      "\n",
      "(train) Epoch=10, lr=0.1054 loss=0.876: 100%|██████████| 24/24 [00:03<00:00,  7.63it/s]"
     ]
    },
    {
     "name": "stdout",
     "output_type": "stream",
     "text": [
      "train_loss=0.8756, train_accuracy=68.852%\n"
     ]
    },
    {
     "name": "stderr",
     "output_type": "stream",
     "text": [
      "\n",
      "(val) Epoch=10, loss=0.838: 100%|██████████| 5/5 [00:00<00:00,  9.85it/s]"
     ]
    },
    {
     "name": "stdout",
     "output_type": "stream",
     "text": [
      "test_loss=0.8383, test_accuracy=70.780%\n",
      "Epoch: 11\n"
     ]
    },
    {
     "name": "stderr",
     "output_type": "stream",
     "text": [
      "\n",
      "(train) Epoch=11, lr=0.0864 loss=0.838: 100%|██████████| 24/24 [00:03<00:00,  7.54it/s]"
     ]
    },
    {
     "name": "stdout",
     "output_type": "stream",
     "text": [
      "train_loss=0.8384, train_accuracy=70.160%\n"
     ]
    },
    {
     "name": "stderr",
     "output_type": "stream",
     "text": [
      "\n",
      "(val) Epoch=11, loss=0.828: 100%|██████████| 5/5 [00:00<00:00,  9.60it/s]"
     ]
    },
    {
     "name": "stdout",
     "output_type": "stream",
     "text": [
      "test_loss=0.8276, test_accuracy=71.090%\n",
      "Epoch: 12\n"
     ]
    },
    {
     "name": "stderr",
     "output_type": "stream",
     "text": [
      "\n",
      "(train) Epoch=12, lr=0.0683 loss=0.801: 100%|██████████| 24/24 [00:02<00:00,  8.21it/s]"
     ]
    },
    {
     "name": "stdout",
     "output_type": "stream",
     "text": [
      "train_loss=0.8011, train_accuracy=71.619%\n"
     ]
    },
    {
     "name": "stderr",
     "output_type": "stream",
     "text": [
      "\n",
      "(val) Epoch=12, loss=0.788: 100%|██████████| 5/5 [00:00<00:00,  9.66it/s]"
     ]
    },
    {
     "name": "stdout",
     "output_type": "stream",
     "text": [
      "test_loss=0.7877, test_accuracy=72.220%\n",
      "Epoch: 13\n"
     ]
    },
    {
     "name": "stderr",
     "output_type": "stream",
     "text": [
      "\n",
      "(train) Epoch=13, lr=0.0515 loss=0.770: 100%|██████████| 24/24 [00:02<00:00,  8.22it/s]"
     ]
    },
    {
     "name": "stdout",
     "output_type": "stream",
     "text": [
      "train_loss=0.7699, train_accuracy=72.752%\n"
     ]
    },
    {
     "name": "stderr",
     "output_type": "stream",
     "text": [
      "\n",
      "(val) Epoch=13, loss=0.769: 100%|██████████| 5/5 [00:00<00:00,  9.77it/s]\n"
     ]
    },
    {
     "name": "stdout",
     "output_type": "stream",
     "text": [
      "test_loss=0.7694, test_accuracy=72.890%\n",
      "Epoch: 14\n"
     ]
    },
    {
     "name": "stderr",
     "output_type": "stream",
     "text": [
      "(train) Epoch=14, lr=0.0366 loss=0.741: 100%|██████████| 24/24 [00:02<00:00,  8.06it/s]"
     ]
    },
    {
     "name": "stdout",
     "output_type": "stream",
     "text": [
      "train_loss=0.7413, train_accuracy=73.653%\n"
     ]
    },
    {
     "name": "stderr",
     "output_type": "stream",
     "text": [
      "\n",
      "(val) Epoch=14, loss=0.763: 100%|██████████| 5/5 [00:00<00:00,  9.79it/s]\n"
     ]
    },
    {
     "name": "stdout",
     "output_type": "stream",
     "text": [
      "test_loss=0.7628, test_accuracy=73.760%\n",
      "Epoch: 15\n"
     ]
    },
    {
     "name": "stderr",
     "output_type": "stream",
     "text": [
      "(train) Epoch=15, lr=0.0239 loss=0.718: 100%|██████████| 24/24 [00:02<00:00,  8.16it/s]"
     ]
    },
    {
     "name": "stdout",
     "output_type": "stream",
     "text": [
      "train_loss=0.7179, train_accuracy=74.388%\n"
     ]
    },
    {
     "name": "stderr",
     "output_type": "stream",
     "text": [
      "\n",
      "(val) Epoch=15, loss=0.725: 100%|██████████| 5/5 [00:00<00:00,  9.88it/s]"
     ]
    },
    {
     "name": "stdout",
     "output_type": "stream",
     "text": [
      "test_loss=0.7250, test_accuracy=74.170%\n",
      "Epoch: 16\n"
     ]
    },
    {
     "name": "stderr",
     "output_type": "stream",
     "text": [
      "\n",
      "(train) Epoch=16, lr=0.0136 loss=0.693: 100%|██████████| 24/24 [00:03<00:00,  7.87it/s]"
     ]
    },
    {
     "name": "stdout",
     "output_type": "stream",
     "text": [
      "train_loss=0.6928, train_accuracy=75.399%\n"
     ]
    },
    {
     "name": "stderr",
     "output_type": "stream",
     "text": [
      "\n",
      "(val) Epoch=16, loss=0.706: 100%|██████████| 5/5 [00:00<00:00,  9.57it/s]"
     ]
    },
    {
     "name": "stdout",
     "output_type": "stream",
     "text": [
      "test_loss=0.7055, test_accuracy=74.880%\n",
      "Epoch: 17\n"
     ]
    },
    {
     "name": "stderr",
     "output_type": "stream",
     "text": [
      "\n",
      "(train) Epoch=17, lr=0.0061 loss=0.683: 100%|██████████| 24/24 [00:03<00:00,  7.82it/s]"
     ]
    },
    {
     "name": "stdout",
     "output_type": "stream",
     "text": [
      "train_loss=0.6828, train_accuracy=75.680%\n"
     ]
    },
    {
     "name": "stderr",
     "output_type": "stream",
     "text": [
      "\n",
      "(val) Epoch=17, loss=0.698: 100%|██████████| 5/5 [00:00<00:00,  9.53it/s]\n"
     ]
    },
    {
     "name": "stdout",
     "output_type": "stream",
     "text": [
      "test_loss=0.6975, test_accuracy=75.430%\n",
      "Epoch: 18\n"
     ]
    },
    {
     "name": "stderr",
     "output_type": "stream",
     "text": [
      "(train) Epoch=18, lr=0.0015 loss=0.672: 100%|██████████| 24/24 [00:02<00:00,  8.07it/s]"
     ]
    },
    {
     "name": "stdout",
     "output_type": "stream",
     "text": [
      "train_loss=0.6725, train_accuracy=76.166%\n"
     ]
    },
    {
     "name": "stderr",
     "output_type": "stream",
     "text": [
      "\n",
      "(val) Epoch=18, loss=0.688: 100%|██████████| 5/5 [00:00<00:00,  9.12it/s]"
     ]
    },
    {
     "name": "stdout",
     "output_type": "stream",
     "text": [
      "test_loss=0.6878, test_accuracy=75.750%\n",
      "Epoch: 19\n"
     ]
    },
    {
     "name": "stderr",
     "output_type": "stream",
     "text": [
      "\n",
      "(train) Epoch=19, lr=0.0000 loss=0.668: 100%|██████████| 24/24 [00:03<00:00,  7.89it/s]"
     ]
    },
    {
     "name": "stdout",
     "output_type": "stream",
     "text": [
      "train_loss=0.6677, train_accuracy=76.308%\n"
     ]
    },
    {
     "name": "stderr",
     "output_type": "stream",
     "text": [
      "\n",
      "(val) Epoch=19, loss=0.687: 100%|██████████| 5/5 [00:00<00:00,  9.26it/s]\n"
     ]
    },
    {
     "name": "stdout",
     "output_type": "stream",
     "text": [
      "test_loss=0.6868, test_accuracy=75.850%\n"
     ]
    }
   ],
   "execution_count": 13
  },
  {
   "cell_type": "markdown",
   "id": "2c95733e",
   "metadata": {},
   "source": [
    "### Save trained model weights"
   ]
  },
  {
   "cell_type": "code",
   "id": "a77290d3",
   "metadata": {
    "ExecuteTime": {
     "end_time": "2025-03-10T20:01:45.990184Z",
     "start_time": "2025-03-10T20:01:45.921062Z"
    }
   },
   "source": [
    "torch.save(model.state_dict(), 'baseline_model.pth')"
   ],
   "outputs": [],
   "execution_count": 14
  },
  {
   "cell_type": "markdown",
   "id": "1262a062",
   "metadata": {},
   "source": [
    "## Neural Architecture Search - Supernet training"
   ]
  },
  {
   "cell_type": "markdown",
   "id": "ba8f5574",
   "metadata": {},
   "source": [
    "### Create supernet"
   ]
  },
  {
   "cell_type": "markdown",
   "id": "3acbc51a",
   "metadata": {},
   "source": [
    "**Before running code in this section, you need to finish supernet implementation.**\n",
    "\n",
    "Please, go to `supernet.py` file and inspect the current implementation of SearchBlock and Supernet classes.\n",
    "Pay attention to the TODOs. You need to implement all of them.\n",
    "\n",
    "Supernet and BasicBlock classes are modified versions of ResNet and BasicBlock classes from `resnet.py`.\n",
    "\n",
    "    Tip: to understand how the Supernet is constructed, compare the implementation of Supernet and ResNet classes. You should probably use diff tool in your IDE or something."
   ]
  },
  {
   "cell_type": "markdown",
   "id": "5213c9dd",
   "metadata": {},
   "source": [
    "Task: briefly describe the differences made to construct supernet."
   ]
  },
  {
   "cell_type": "code",
   "id": "ae6f71f9",
   "metadata": {
    "ExecuteTime": {
     "end_time": "2025-03-10T20:18:46.066656Z",
     "start_time": "2025-03-10T20:18:46.062807Z"
    }
   },
   "source": [
    "import importlib\n",
    "import speed_up_nn.hw_04.supernet as supernet_lib\n",
    "importlib.reload(supernet_lib)\n",
    "from speed_up_nn.hw_04.supernet import supernet18, BasicBlock"
   ],
   "outputs": [],
   "execution_count": 30
  },
  {
   "cell_type": "code",
   "id": "30066746",
   "metadata": {
    "ExecuteTime": {
     "end_time": "2025-03-10T20:01:45.998676Z",
     "start_time": "2025-03-10T20:01:45.997025Z"
    }
   },
   "source": [
    "# Define inner channel multipliers as in lecture.\n",
    "channel_multipliers = [0.5, 1.0, 2.0]"
   ],
   "outputs": [],
   "execution_count": 16
  },
  {
   "cell_type": "code",
   "id": "2f11a2c0",
   "metadata": {
    "ExecuteTime": {
     "end_time": "2025-03-10T20:01:46.325361Z",
     "start_time": "2025-03-10T20:01:45.999347Z"
    }
   },
   "source": [
    "supernet = supernet18(num_classes=10, zero_init_residual=True, channel_multipliers=channel_multipliers)\n",
    "supernet.to(device=device)"
   ],
   "outputs": [
    {
     "data": {
      "text/plain": [
       "Supernet(\n",
       "  (conv1): Conv2d(3, 64, kernel_size=(7, 7), stride=(2, 2), padding=(3, 3), bias=False)\n",
       "  (bn1): BatchNorm2d(64, eps=1e-05, momentum=0.1, affine=True, track_running_stats=True)\n",
       "  (relu): ReLU(inplace=True)\n",
       "  (maxpool): MaxPool2d(kernel_size=3, stride=2, padding=1, dilation=1, ceil_mode=False)\n",
       "  (layer1): Sequential(\n",
       "    (0): SearchBlock(\n",
       "      (ops): ModuleList(\n",
       "        (0): BasicBlock(\n",
       "          (conv1): Conv2d(64, 32, kernel_size=(3, 3), stride=(1, 1), padding=(1, 1), bias=False)\n",
       "          (bn1): BatchNorm2d(32, eps=1e-05, momentum=0.1, affine=True, track_running_stats=True)\n",
       "          (relu): ReLU(inplace=True)\n",
       "          (conv2): Conv2d(32, 64, kernel_size=(3, 3), stride=(1, 1), padding=(1, 1), bias=False)\n",
       "          (bn2): BatchNorm2d(64, eps=1e-05, momentum=0.1, affine=True, track_running_stats=True)\n",
       "        )\n",
       "        (1): BasicBlock(\n",
       "          (conv1): Conv2d(64, 64, kernel_size=(3, 3), stride=(1, 1), padding=(1, 1), bias=False)\n",
       "          (bn1): BatchNorm2d(64, eps=1e-05, momentum=0.1, affine=True, track_running_stats=True)\n",
       "          (relu): ReLU(inplace=True)\n",
       "          (conv2): Conv2d(64, 64, kernel_size=(3, 3), stride=(1, 1), padding=(1, 1), bias=False)\n",
       "          (bn2): BatchNorm2d(64, eps=1e-05, momentum=0.1, affine=True, track_running_stats=True)\n",
       "        )\n",
       "        (2): BasicBlock(\n",
       "          (conv1): Conv2d(64, 128, kernel_size=(3, 3), stride=(1, 1), padding=(1, 1), bias=False)\n",
       "          (bn1): BatchNorm2d(128, eps=1e-05, momentum=0.1, affine=True, track_running_stats=True)\n",
       "          (relu): ReLU(inplace=True)\n",
       "          (conv2): Conv2d(128, 64, kernel_size=(3, 3), stride=(1, 1), padding=(1, 1), bias=False)\n",
       "          (bn2): BatchNorm2d(64, eps=1e-05, momentum=0.1, affine=True, track_running_stats=True)\n",
       "        )\n",
       "      )\n",
       "    )\n",
       "    (1): SearchBlock(\n",
       "      (ops): ModuleList(\n",
       "        (0): BasicBlock(\n",
       "          (conv1): Conv2d(64, 32, kernel_size=(3, 3), stride=(1, 1), padding=(1, 1), bias=False)\n",
       "          (bn1): BatchNorm2d(32, eps=1e-05, momentum=0.1, affine=True, track_running_stats=True)\n",
       "          (relu): ReLU(inplace=True)\n",
       "          (conv2): Conv2d(32, 64, kernel_size=(3, 3), stride=(1, 1), padding=(1, 1), bias=False)\n",
       "          (bn2): BatchNorm2d(64, eps=1e-05, momentum=0.1, affine=True, track_running_stats=True)\n",
       "        )\n",
       "        (1): BasicBlock(\n",
       "          (conv1): Conv2d(64, 64, kernel_size=(3, 3), stride=(1, 1), padding=(1, 1), bias=False)\n",
       "          (bn1): BatchNorm2d(64, eps=1e-05, momentum=0.1, affine=True, track_running_stats=True)\n",
       "          (relu): ReLU(inplace=True)\n",
       "          (conv2): Conv2d(64, 64, kernel_size=(3, 3), stride=(1, 1), padding=(1, 1), bias=False)\n",
       "          (bn2): BatchNorm2d(64, eps=1e-05, momentum=0.1, affine=True, track_running_stats=True)\n",
       "        )\n",
       "        (2): BasicBlock(\n",
       "          (conv1): Conv2d(64, 128, kernel_size=(3, 3), stride=(1, 1), padding=(1, 1), bias=False)\n",
       "          (bn1): BatchNorm2d(128, eps=1e-05, momentum=0.1, affine=True, track_running_stats=True)\n",
       "          (relu): ReLU(inplace=True)\n",
       "          (conv2): Conv2d(128, 64, kernel_size=(3, 3), stride=(1, 1), padding=(1, 1), bias=False)\n",
       "          (bn2): BatchNorm2d(64, eps=1e-05, momentum=0.1, affine=True, track_running_stats=True)\n",
       "        )\n",
       "      )\n",
       "    )\n",
       "  )\n",
       "  (layer2): Sequential(\n",
       "    (0): SearchBlock(\n",
       "      (ops): ModuleList(\n",
       "        (0): BasicBlock(\n",
       "          (conv1): Conv2d(64, 64, kernel_size=(3, 3), stride=(2, 2), padding=(1, 1), bias=False)\n",
       "          (bn1): BatchNorm2d(64, eps=1e-05, momentum=0.1, affine=True, track_running_stats=True)\n",
       "          (relu): ReLU(inplace=True)\n",
       "          (conv2): Conv2d(64, 128, kernel_size=(3, 3), stride=(1, 1), padding=(1, 1), bias=False)\n",
       "          (bn2): BatchNorm2d(128, eps=1e-05, momentum=0.1, affine=True, track_running_stats=True)\n",
       "          (downsample): Sequential(\n",
       "            (0): Conv2d(64, 128, kernel_size=(1, 1), stride=(2, 2), bias=False)\n",
       "            (1): BatchNorm2d(128, eps=1e-05, momentum=0.1, affine=True, track_running_stats=True)\n",
       "          )\n",
       "        )\n",
       "        (1): BasicBlock(\n",
       "          (conv1): Conv2d(64, 128, kernel_size=(3, 3), stride=(2, 2), padding=(1, 1), bias=False)\n",
       "          (bn1): BatchNorm2d(128, eps=1e-05, momentum=0.1, affine=True, track_running_stats=True)\n",
       "          (relu): ReLU(inplace=True)\n",
       "          (conv2): Conv2d(128, 128, kernel_size=(3, 3), stride=(1, 1), padding=(1, 1), bias=False)\n",
       "          (bn2): BatchNorm2d(128, eps=1e-05, momentum=0.1, affine=True, track_running_stats=True)\n",
       "          (downsample): Sequential(\n",
       "            (0): Conv2d(64, 128, kernel_size=(1, 1), stride=(2, 2), bias=False)\n",
       "            (1): BatchNorm2d(128, eps=1e-05, momentum=0.1, affine=True, track_running_stats=True)\n",
       "          )\n",
       "        )\n",
       "        (2): BasicBlock(\n",
       "          (conv1): Conv2d(64, 256, kernel_size=(3, 3), stride=(2, 2), padding=(1, 1), bias=False)\n",
       "          (bn1): BatchNorm2d(256, eps=1e-05, momentum=0.1, affine=True, track_running_stats=True)\n",
       "          (relu): ReLU(inplace=True)\n",
       "          (conv2): Conv2d(256, 128, kernel_size=(3, 3), stride=(1, 1), padding=(1, 1), bias=False)\n",
       "          (bn2): BatchNorm2d(128, eps=1e-05, momentum=0.1, affine=True, track_running_stats=True)\n",
       "          (downsample): Sequential(\n",
       "            (0): Conv2d(64, 128, kernel_size=(1, 1), stride=(2, 2), bias=False)\n",
       "            (1): BatchNorm2d(128, eps=1e-05, momentum=0.1, affine=True, track_running_stats=True)\n",
       "          )\n",
       "        )\n",
       "      )\n",
       "    )\n",
       "    (1): SearchBlock(\n",
       "      (ops): ModuleList(\n",
       "        (0): BasicBlock(\n",
       "          (conv1): Conv2d(128, 64, kernel_size=(3, 3), stride=(1, 1), padding=(1, 1), bias=False)\n",
       "          (bn1): BatchNorm2d(64, eps=1e-05, momentum=0.1, affine=True, track_running_stats=True)\n",
       "          (relu): ReLU(inplace=True)\n",
       "          (conv2): Conv2d(64, 128, kernel_size=(3, 3), stride=(1, 1), padding=(1, 1), bias=False)\n",
       "          (bn2): BatchNorm2d(128, eps=1e-05, momentum=0.1, affine=True, track_running_stats=True)\n",
       "        )\n",
       "        (1): BasicBlock(\n",
       "          (conv1): Conv2d(128, 128, kernel_size=(3, 3), stride=(1, 1), padding=(1, 1), bias=False)\n",
       "          (bn1): BatchNorm2d(128, eps=1e-05, momentum=0.1, affine=True, track_running_stats=True)\n",
       "          (relu): ReLU(inplace=True)\n",
       "          (conv2): Conv2d(128, 128, kernel_size=(3, 3), stride=(1, 1), padding=(1, 1), bias=False)\n",
       "          (bn2): BatchNorm2d(128, eps=1e-05, momentum=0.1, affine=True, track_running_stats=True)\n",
       "        )\n",
       "        (2): BasicBlock(\n",
       "          (conv1): Conv2d(128, 256, kernel_size=(3, 3), stride=(1, 1), padding=(1, 1), bias=False)\n",
       "          (bn1): BatchNorm2d(256, eps=1e-05, momentum=0.1, affine=True, track_running_stats=True)\n",
       "          (relu): ReLU(inplace=True)\n",
       "          (conv2): Conv2d(256, 128, kernel_size=(3, 3), stride=(1, 1), padding=(1, 1), bias=False)\n",
       "          (bn2): BatchNorm2d(128, eps=1e-05, momentum=0.1, affine=True, track_running_stats=True)\n",
       "        )\n",
       "      )\n",
       "    )\n",
       "  )\n",
       "  (layer3): Sequential(\n",
       "    (0): SearchBlock(\n",
       "      (ops): ModuleList(\n",
       "        (0): BasicBlock(\n",
       "          (conv1): Conv2d(128, 128, kernel_size=(3, 3), stride=(2, 2), padding=(1, 1), bias=False)\n",
       "          (bn1): BatchNorm2d(128, eps=1e-05, momentum=0.1, affine=True, track_running_stats=True)\n",
       "          (relu): ReLU(inplace=True)\n",
       "          (conv2): Conv2d(128, 256, kernel_size=(3, 3), stride=(1, 1), padding=(1, 1), bias=False)\n",
       "          (bn2): BatchNorm2d(256, eps=1e-05, momentum=0.1, affine=True, track_running_stats=True)\n",
       "          (downsample): Sequential(\n",
       "            (0): Conv2d(128, 256, kernel_size=(1, 1), stride=(2, 2), bias=False)\n",
       "            (1): BatchNorm2d(256, eps=1e-05, momentum=0.1, affine=True, track_running_stats=True)\n",
       "          )\n",
       "        )\n",
       "        (1): BasicBlock(\n",
       "          (conv1): Conv2d(128, 256, kernel_size=(3, 3), stride=(2, 2), padding=(1, 1), bias=False)\n",
       "          (bn1): BatchNorm2d(256, eps=1e-05, momentum=0.1, affine=True, track_running_stats=True)\n",
       "          (relu): ReLU(inplace=True)\n",
       "          (conv2): Conv2d(256, 256, kernel_size=(3, 3), stride=(1, 1), padding=(1, 1), bias=False)\n",
       "          (bn2): BatchNorm2d(256, eps=1e-05, momentum=0.1, affine=True, track_running_stats=True)\n",
       "          (downsample): Sequential(\n",
       "            (0): Conv2d(128, 256, kernel_size=(1, 1), stride=(2, 2), bias=False)\n",
       "            (1): BatchNorm2d(256, eps=1e-05, momentum=0.1, affine=True, track_running_stats=True)\n",
       "          )\n",
       "        )\n",
       "        (2): BasicBlock(\n",
       "          (conv1): Conv2d(128, 512, kernel_size=(3, 3), stride=(2, 2), padding=(1, 1), bias=False)\n",
       "          (bn1): BatchNorm2d(512, eps=1e-05, momentum=0.1, affine=True, track_running_stats=True)\n",
       "          (relu): ReLU(inplace=True)\n",
       "          (conv2): Conv2d(512, 256, kernel_size=(3, 3), stride=(1, 1), padding=(1, 1), bias=False)\n",
       "          (bn2): BatchNorm2d(256, eps=1e-05, momentum=0.1, affine=True, track_running_stats=True)\n",
       "          (downsample): Sequential(\n",
       "            (0): Conv2d(128, 256, kernel_size=(1, 1), stride=(2, 2), bias=False)\n",
       "            (1): BatchNorm2d(256, eps=1e-05, momentum=0.1, affine=True, track_running_stats=True)\n",
       "          )\n",
       "        )\n",
       "      )\n",
       "    )\n",
       "    (1): SearchBlock(\n",
       "      (ops): ModuleList(\n",
       "        (0): BasicBlock(\n",
       "          (conv1): Conv2d(256, 128, kernel_size=(3, 3), stride=(1, 1), padding=(1, 1), bias=False)\n",
       "          (bn1): BatchNorm2d(128, eps=1e-05, momentum=0.1, affine=True, track_running_stats=True)\n",
       "          (relu): ReLU(inplace=True)\n",
       "          (conv2): Conv2d(128, 256, kernel_size=(3, 3), stride=(1, 1), padding=(1, 1), bias=False)\n",
       "          (bn2): BatchNorm2d(256, eps=1e-05, momentum=0.1, affine=True, track_running_stats=True)\n",
       "        )\n",
       "        (1): BasicBlock(\n",
       "          (conv1): Conv2d(256, 256, kernel_size=(3, 3), stride=(1, 1), padding=(1, 1), bias=False)\n",
       "          (bn1): BatchNorm2d(256, eps=1e-05, momentum=0.1, affine=True, track_running_stats=True)\n",
       "          (relu): ReLU(inplace=True)\n",
       "          (conv2): Conv2d(256, 256, kernel_size=(3, 3), stride=(1, 1), padding=(1, 1), bias=False)\n",
       "          (bn2): BatchNorm2d(256, eps=1e-05, momentum=0.1, affine=True, track_running_stats=True)\n",
       "        )\n",
       "        (2): BasicBlock(\n",
       "          (conv1): Conv2d(256, 512, kernel_size=(3, 3), stride=(1, 1), padding=(1, 1), bias=False)\n",
       "          (bn1): BatchNorm2d(512, eps=1e-05, momentum=0.1, affine=True, track_running_stats=True)\n",
       "          (relu): ReLU(inplace=True)\n",
       "          (conv2): Conv2d(512, 256, kernel_size=(3, 3), stride=(1, 1), padding=(1, 1), bias=False)\n",
       "          (bn2): BatchNorm2d(256, eps=1e-05, momentum=0.1, affine=True, track_running_stats=True)\n",
       "        )\n",
       "      )\n",
       "    )\n",
       "  )\n",
       "  (layer4): Sequential(\n",
       "    (0): SearchBlock(\n",
       "      (ops): ModuleList(\n",
       "        (0): BasicBlock(\n",
       "          (conv1): Conv2d(256, 256, kernel_size=(3, 3), stride=(2, 2), padding=(1, 1), bias=False)\n",
       "          (bn1): BatchNorm2d(256, eps=1e-05, momentum=0.1, affine=True, track_running_stats=True)\n",
       "          (relu): ReLU(inplace=True)\n",
       "          (conv2): Conv2d(256, 512, kernel_size=(3, 3), stride=(1, 1), padding=(1, 1), bias=False)\n",
       "          (bn2): BatchNorm2d(512, eps=1e-05, momentum=0.1, affine=True, track_running_stats=True)\n",
       "          (downsample): Sequential(\n",
       "            (0): Conv2d(256, 512, kernel_size=(1, 1), stride=(2, 2), bias=False)\n",
       "            (1): BatchNorm2d(512, eps=1e-05, momentum=0.1, affine=True, track_running_stats=True)\n",
       "          )\n",
       "        )\n",
       "        (1): BasicBlock(\n",
       "          (conv1): Conv2d(256, 512, kernel_size=(3, 3), stride=(2, 2), padding=(1, 1), bias=False)\n",
       "          (bn1): BatchNorm2d(512, eps=1e-05, momentum=0.1, affine=True, track_running_stats=True)\n",
       "          (relu): ReLU(inplace=True)\n",
       "          (conv2): Conv2d(512, 512, kernel_size=(3, 3), stride=(1, 1), padding=(1, 1), bias=False)\n",
       "          (bn2): BatchNorm2d(512, eps=1e-05, momentum=0.1, affine=True, track_running_stats=True)\n",
       "          (downsample): Sequential(\n",
       "            (0): Conv2d(256, 512, kernel_size=(1, 1), stride=(2, 2), bias=False)\n",
       "            (1): BatchNorm2d(512, eps=1e-05, momentum=0.1, affine=True, track_running_stats=True)\n",
       "          )\n",
       "        )\n",
       "        (2): BasicBlock(\n",
       "          (conv1): Conv2d(256, 1024, kernel_size=(3, 3), stride=(2, 2), padding=(1, 1), bias=False)\n",
       "          (bn1): BatchNorm2d(1024, eps=1e-05, momentum=0.1, affine=True, track_running_stats=True)\n",
       "          (relu): ReLU(inplace=True)\n",
       "          (conv2): Conv2d(1024, 512, kernel_size=(3, 3), stride=(1, 1), padding=(1, 1), bias=False)\n",
       "          (bn2): BatchNorm2d(512, eps=1e-05, momentum=0.1, affine=True, track_running_stats=True)\n",
       "          (downsample): Sequential(\n",
       "            (0): Conv2d(256, 512, kernel_size=(1, 1), stride=(2, 2), bias=False)\n",
       "            (1): BatchNorm2d(512, eps=1e-05, momentum=0.1, affine=True, track_running_stats=True)\n",
       "          )\n",
       "        )\n",
       "      )\n",
       "    )\n",
       "    (1): SearchBlock(\n",
       "      (ops): ModuleList(\n",
       "        (0): BasicBlock(\n",
       "          (conv1): Conv2d(512, 256, kernel_size=(3, 3), stride=(1, 1), padding=(1, 1), bias=False)\n",
       "          (bn1): BatchNorm2d(256, eps=1e-05, momentum=0.1, affine=True, track_running_stats=True)\n",
       "          (relu): ReLU(inplace=True)\n",
       "          (conv2): Conv2d(256, 512, kernel_size=(3, 3), stride=(1, 1), padding=(1, 1), bias=False)\n",
       "          (bn2): BatchNorm2d(512, eps=1e-05, momentum=0.1, affine=True, track_running_stats=True)\n",
       "        )\n",
       "        (1): BasicBlock(\n",
       "          (conv1): Conv2d(512, 512, kernel_size=(3, 3), stride=(1, 1), padding=(1, 1), bias=False)\n",
       "          (bn1): BatchNorm2d(512, eps=1e-05, momentum=0.1, affine=True, track_running_stats=True)\n",
       "          (relu): ReLU(inplace=True)\n",
       "          (conv2): Conv2d(512, 512, kernel_size=(3, 3), stride=(1, 1), padding=(1, 1), bias=False)\n",
       "          (bn2): BatchNorm2d(512, eps=1e-05, momentum=0.1, affine=True, track_running_stats=True)\n",
       "        )\n",
       "        (2): BasicBlock(\n",
       "          (conv1): Conv2d(512, 1024, kernel_size=(3, 3), stride=(1, 1), padding=(1, 1), bias=False)\n",
       "          (bn1): BatchNorm2d(1024, eps=1e-05, momentum=0.1, affine=True, track_running_stats=True)\n",
       "          (relu): ReLU(inplace=True)\n",
       "          (conv2): Conv2d(1024, 512, kernel_size=(3, 3), stride=(1, 1), padding=(1, 1), bias=False)\n",
       "          (bn2): BatchNorm2d(512, eps=1e-05, momentum=0.1, affine=True, track_running_stats=True)\n",
       "        )\n",
       "      )\n",
       "    )\n",
       "  )\n",
       "  (avgpool): AdaptiveAvgPool2d(output_size=(1, 1))\n",
       "  (fc): Linear(in_features=512, out_features=10, bias=True)\n",
       ")"
      ]
     },
     "execution_count": 17,
     "metadata": {},
     "output_type": "execute_result"
    }
   ],
   "execution_count": 17
  },
  {
   "cell_type": "markdown",
   "id": "89c42bba",
   "metadata": {},
   "source": [
    "### Select hyperparameters"
   ]
  },
  {
   "cell_type": "code",
   "id": "8b72ca7f",
   "metadata": {
    "ExecuteTime": {
     "end_time": "2025-03-10T20:01:46.328085Z",
     "start_time": "2025-03-10T20:01:46.326088Z"
    }
   },
   "source": [
    "# define hyperparameters for supernet training.\n",
    "lr = 0.25\n",
    "weight_decay = 5e-4\n",
    "momentum = 0.9\n",
    "n_epochs = 50"
   ],
   "outputs": [],
   "execution_count": 18
  },
  {
   "cell_type": "markdown",
   "id": "ce8f3ec3",
   "metadata": {},
   "source": [
    "### Build optimizer and scheduler"
   ]
  },
  {
   "cell_type": "code",
   "id": "4b2eda34",
   "metadata": {
    "ExecuteTime": {
     "end_time": "2025-03-10T20:01:46.331293Z",
     "start_time": "2025-03-10T20:01:46.328746Z"
    }
   },
   "source": [
    "# build optimizer and scheduler for supernet training.\n",
    "optimizer = optim.SGD(supernet.parameters(), lr=lr, weight_decay=weight_decay, momentum=momentum)\n",
    "scheduler = optim.lr_scheduler.CosineAnnealingLR(optimizer, T_max=len(train_dataloader) * n_epochs)"
   ],
   "outputs": [],
   "execution_count": 19
  },
  {
   "cell_type": "markdown",
   "id": "03b283fb",
   "metadata": {},
   "source": [
    "### Define training function"
   ]
  },
  {
   "cell_type": "code",
   "id": "04ec0cd1",
   "metadata": {
    "ExecuteTime": {
     "end_time": "2025-03-10T20:01:46.335860Z",
     "start_time": "2025-03-10T20:01:46.332037Z"
    }
   },
   "source": [
    "def pretrain_one_epoch(\n",
    "        model: nn.Module,\n",
    "        criterion: nn.Module,\n",
    "        dataloader: DataLoader,\n",
    "        optimizer: optim.Optimizer,\n",
    "        scheduler,\n",
    "        device: torch.device,\n",
    "        epoch: int,\n",
    ") -> Tuple[float, float]:\n",
    "    model.train()\n",
    "\n",
    "    total_loss = 0.0\n",
    "    total_correct = 0.0\n",
    "    total_samples = 0\n",
    "\n",
    "    wrapped_dataloader = tqdm(enumerate(dataloader), total=len(dataloader))\n",
    "    for i, (inputs, labels) in wrapped_dataloader:\n",
    "        inputs = inputs.to(device=device)\n",
    "        labels = labels.to(device=device)\n",
    "\n",
    "        optimizer.zero_grad()\n",
    "        model.sample_random_architecture()\n",
    "        logits = model(inputs)\n",
    "        loss = criterion(logits, labels)\n",
    "        loss.backward()\n",
    "        optimizer.step()\n",
    "        scheduler.step()\n",
    "\n",
    "        with torch.no_grad():\n",
    "            _, predicted_labels = torch.max(logits, 1)\n",
    "            total_loss += loss.item()\n",
    "            total_correct += (predicted_labels == labels).sum().item()\n",
    "            total_samples += labels.shape[0]\n",
    "\n",
    "        wrapped_dataloader.set_description(\n",
    "            f'(train) Epoch={epoch}, lr={scheduler.get_last_lr()[0]:.4f} loss={total_loss / (i + 1):.3f}'\n",
    "        )\n",
    "\n",
    "    return total_loss / len(dataloader), total_correct / total_samples"
   ],
   "outputs": [],
   "execution_count": 20
  },
  {
   "cell_type": "code",
   "id": "ca3c0ca6",
   "metadata": {
    "ExecuteTime": {
     "end_time": "2025-03-10T20:04:58.570723Z",
     "start_time": "2025-03-10T20:01:46.336434Z"
    }
   },
   "source": [
    "for epoch in range(n_epochs):\n",
    "    print(f'Epoch: {epoch}')\n",
    "    loss, accuracy = pretrain_one_epoch(supernet, criterion, train_dataloader, optimizer, scheduler, device, epoch)\n",
    "    print(f'train_loss={loss:.4f}, train_accuracy={accuracy:.3%}')\n",
    "    loss, accuracy = validate_one_epoch(supernet, criterion, test_dataloader, device, epoch)\n",
    "    print(f'test_loss={loss:.4f}, test_accuracy={accuracy:.3%}')"
   ],
   "outputs": [
    {
     "name": "stdout",
     "output_type": "stream",
     "text": [
      "Epoch: 0\n"
     ]
    },
    {
     "name": "stderr",
     "output_type": "stream",
     "text": [
      "(train) Epoch=0, lr=0.2498 loss=3.113: 100%|██████████| 24/24 [00:05<00:00,  4.08it/s]"
     ]
    },
    {
     "name": "stdout",
     "output_type": "stream",
     "text": [
      "train_loss=3.1134, train_accuracy=11.292%\n"
     ]
    },
    {
     "name": "stderr",
     "output_type": "stream",
     "text": [
      "\n",
      "(val) Epoch=0, loss=3.655: 100%|██████████| 5/5 [00:01<00:00,  4.10it/s]"
     ]
    },
    {
     "name": "stdout",
     "output_type": "stream",
     "text": [
      "test_loss=3.6555, test_accuracy=9.420%\n",
      "Epoch: 1\n"
     ]
    },
    {
     "name": "stderr",
     "output_type": "stream",
     "text": [
      "\n",
      "(train) Epoch=1, lr=0.2490 loss=5.228: 100%|██████████| 24/24 [00:02<00:00,  8.06it/s]"
     ]
    },
    {
     "name": "stdout",
     "output_type": "stream",
     "text": [
      "train_loss=5.2279, train_accuracy=11.414%\n"
     ]
    },
    {
     "name": "stderr",
     "output_type": "stream",
     "text": [
      "\n",
      "(val) Epoch=1, loss=93.874: 100%|██████████| 5/5 [00:00<00:00,  5.79it/s]"
     ]
    },
    {
     "name": "stdout",
     "output_type": "stream",
     "text": [
      "test_loss=93.8742, test_accuracy=11.310%\n",
      "Epoch: 2\n"
     ]
    },
    {
     "name": "stderr",
     "output_type": "stream",
     "text": [
      "\n",
      "(train) Epoch=2, lr=0.2478 loss=4.236: 100%|██████████| 24/24 [00:03<00:00,  7.96it/s]"
     ]
    },
    {
     "name": "stdout",
     "output_type": "stream",
     "text": [
      "train_loss=4.2360, train_accuracy=10.870%\n"
     ]
    },
    {
     "name": "stderr",
     "output_type": "stream",
     "text": [
      "\n",
      "(val) Epoch=2, loss=75.687: 100%|██████████| 5/5 [00:00<00:00,  7.26it/s]"
     ]
    },
    {
     "name": "stdout",
     "output_type": "stream",
     "text": [
      "test_loss=75.6869, test_accuracy=10.080%\n",
      "Epoch: 3\n"
     ]
    },
    {
     "name": "stderr",
     "output_type": "stream",
     "text": [
      "\n",
      "(train) Epoch=3, lr=0.2461 loss=2.893: 100%|██████████| 24/24 [00:02<00:00,  8.06it/s]"
     ]
    },
    {
     "name": "stdout",
     "output_type": "stream",
     "text": [
      "train_loss=2.8930, train_accuracy=10.775%\n"
     ]
    },
    {
     "name": "stderr",
     "output_type": "stream",
     "text": [
      "\n",
      "(val) Epoch=3, loss=35.303: 100%|██████████| 5/5 [00:00<00:00,  7.96it/s]"
     ]
    },
    {
     "name": "stdout",
     "output_type": "stream",
     "text": [
      "test_loss=35.3034, test_accuracy=9.970%\n",
      "Epoch: 4\n"
     ]
    },
    {
     "name": "stderr",
     "output_type": "stream",
     "text": [
      "\n",
      "(train) Epoch=4, lr=0.2439 loss=2.573: 100%|██████████| 24/24 [00:03<00:00,  7.54it/s]"
     ]
    },
    {
     "name": "stdout",
     "output_type": "stream",
     "text": [
      "train_loss=2.5732, train_accuracy=10.868%\n"
     ]
    },
    {
     "name": "stderr",
     "output_type": "stream",
     "text": [
      "\n",
      "(val) Epoch=4, loss=21.741: 100%|██████████| 5/5 [00:00<00:00,  6.74it/s]"
     ]
    },
    {
     "name": "stdout",
     "output_type": "stream",
     "text": [
      "test_loss=21.7409, test_accuracy=7.630%\n",
      "Epoch: 5\n"
     ]
    },
    {
     "name": "stderr",
     "output_type": "stream",
     "text": [
      "\n",
      "(train) Epoch=5, lr=0.2412 loss=2.342: 100%|██████████| 24/24 [00:03<00:00,  7.72it/s]\n"
     ]
    },
    {
     "name": "stdout",
     "output_type": "stream",
     "text": [
      "train_loss=2.3422, train_accuracy=11.491%\n"
     ]
    },
    {
     "name": "stderr",
     "output_type": "stream",
     "text": [
      "(val) Epoch=5, loss=4.704: 100%|██████████| 5/5 [00:00<00:00,  9.43it/s]"
     ]
    },
    {
     "name": "stdout",
     "output_type": "stream",
     "text": [
      "test_loss=4.7044, test_accuracy=13.160%\n",
      "Epoch: 6\n"
     ]
    },
    {
     "name": "stderr",
     "output_type": "stream",
     "text": [
      "\n",
      "(train) Epoch=6, lr=0.2381 loss=2.290: 100%|██████████| 24/24 [00:03<00:00,  7.76it/s]"
     ]
    },
    {
     "name": "stdout",
     "output_type": "stream",
     "text": [
      "train_loss=2.2896, train_accuracy=12.423%\n"
     ]
    },
    {
     "name": "stderr",
     "output_type": "stream",
     "text": [
      "\n",
      "(val) Epoch=6, loss=2.315: 100%|██████████| 5/5 [00:00<00:00,  8.55it/s]"
     ]
    },
    {
     "name": "stdout",
     "output_type": "stream",
     "text": [
      "test_loss=2.3152, test_accuracy=15.340%\n",
      "Epoch: 7\n"
     ]
    },
    {
     "name": "stderr",
     "output_type": "stream",
     "text": [
      "\n",
      "(train) Epoch=7, lr=0.2345 loss=2.252: 100%|██████████| 24/24 [00:03<00:00,  7.56it/s]"
     ]
    },
    {
     "name": "stdout",
     "output_type": "stream",
     "text": [
      "train_loss=2.2522, train_accuracy=14.419%\n"
     ]
    },
    {
     "name": "stderr",
     "output_type": "stream",
     "text": [
      "\n",
      "(val) Epoch=7, loss=2.523: 100%|██████████| 5/5 [00:00<00:00,  9.36it/s]"
     ]
    },
    {
     "name": "stdout",
     "output_type": "stream",
     "text": [
      "test_loss=2.5226, test_accuracy=16.340%\n",
      "Epoch: 8\n"
     ]
    },
    {
     "name": "stderr",
     "output_type": "stream",
     "text": [
      "\n",
      "(train) Epoch=8, lr=0.2305 loss=2.193: 100%|██████████| 24/24 [00:03<00:00,  7.62it/s]"
     ]
    },
    {
     "name": "stdout",
     "output_type": "stream",
     "text": [
      "train_loss=2.1928, train_accuracy=17.120%\n"
     ]
    },
    {
     "name": "stderr",
     "output_type": "stream",
     "text": [
      "\n",
      "(val) Epoch=8, loss=2.136: 100%|██████████| 5/5 [00:00<00:00,  9.56it/s]\n"
     ]
    },
    {
     "name": "stdout",
     "output_type": "stream",
     "text": [
      "test_loss=2.1356, test_accuracy=20.180%\n",
      "Epoch: 9\n"
     ]
    },
    {
     "name": "stderr",
     "output_type": "stream",
     "text": [
      "(train) Epoch=9, lr=0.2261 loss=2.149: 100%|██████████| 24/24 [00:03<00:00,  7.76it/s]"
     ]
    },
    {
     "name": "stdout",
     "output_type": "stream",
     "text": [
      "train_loss=2.1491, train_accuracy=18.620%\n"
     ]
    },
    {
     "name": "stderr",
     "output_type": "stream",
     "text": [
      "\n",
      "(val) Epoch=9, loss=2.108: 100%|██████████| 5/5 [00:00<00:00,  9.72it/s]"
     ]
    },
    {
     "name": "stdout",
     "output_type": "stream",
     "text": [
      "test_loss=2.1080, test_accuracy=20.020%\n",
      "Epoch: 10\n"
     ]
    },
    {
     "name": "stderr",
     "output_type": "stream",
     "text": [
      "\n",
      "(train) Epoch=10, lr=0.2213 loss=2.091: 100%|██████████| 24/24 [00:03<00:00,  7.69it/s]\n"
     ]
    },
    {
     "name": "stdout",
     "output_type": "stream",
     "text": [
      "train_loss=2.0906, train_accuracy=20.746%\n"
     ]
    },
    {
     "name": "stderr",
     "output_type": "stream",
     "text": [
      "(val) Epoch=10, loss=2.135: 100%|██████████| 5/5 [00:00<00:00,  9.40it/s]\n"
     ]
    },
    {
     "name": "stdout",
     "output_type": "stream",
     "text": [
      "test_loss=2.1354, test_accuracy=19.130%\n",
      "Epoch: 11\n"
     ]
    },
    {
     "name": "stderr",
     "output_type": "stream",
     "text": [
      "(train) Epoch=11, lr=0.2161 loss=2.049: 100%|██████████| 24/24 [00:02<00:00,  8.07it/s]"
     ]
    },
    {
     "name": "stdout",
     "output_type": "stream",
     "text": [
      "train_loss=2.0494, train_accuracy=22.870%\n"
     ]
    },
    {
     "name": "stderr",
     "output_type": "stream",
     "text": [
      "\n",
      "(val) Epoch=11, loss=2.016: 100%|██████████| 5/5 [00:00<00:00,  9.38it/s]\n"
     ]
    },
    {
     "name": "stdout",
     "output_type": "stream",
     "text": [
      "test_loss=2.0164, test_accuracy=22.540%\n",
      "Epoch: 12\n"
     ]
    },
    {
     "name": "stderr",
     "output_type": "stream",
     "text": [
      "(train) Epoch=12, lr=0.2106 loss=2.005: 100%|██████████| 24/24 [00:03<00:00,  7.86it/s]\n"
     ]
    },
    {
     "name": "stdout",
     "output_type": "stream",
     "text": [
      "train_loss=2.0051, train_accuracy=24.384%\n"
     ]
    },
    {
     "name": "stderr",
     "output_type": "stream",
     "text": [
      "(val) Epoch=12, loss=1.972: 100%|██████████| 5/5 [00:00<00:00,  9.49it/s]\n"
     ]
    },
    {
     "name": "stdout",
     "output_type": "stream",
     "text": [
      "test_loss=1.9721, test_accuracy=25.310%\n",
      "Epoch: 13\n"
     ]
    },
    {
     "name": "stderr",
     "output_type": "stream",
     "text": [
      "(train) Epoch=13, lr=0.2047 loss=1.967: 100%|██████████| 24/24 [00:03<00:00,  7.73it/s]\n"
     ]
    },
    {
     "name": "stdout",
     "output_type": "stream",
     "text": [
      "train_loss=1.9672, train_accuracy=25.098%\n"
     ]
    },
    {
     "name": "stderr",
     "output_type": "stream",
     "text": [
      "(val) Epoch=13, loss=2.042: 100%|██████████| 5/5 [00:00<00:00,  9.60it/s]"
     ]
    },
    {
     "name": "stdout",
     "output_type": "stream",
     "text": [
      "test_loss=2.0419, test_accuracy=22.060%\n",
      "Epoch: 14\n"
     ]
    },
    {
     "name": "stderr",
     "output_type": "stream",
     "text": [
      "\n",
      "(train) Epoch=14, lr=0.1985 loss=1.933: 100%|██████████| 24/24 [00:02<00:00,  8.07it/s]"
     ]
    },
    {
     "name": "stdout",
     "output_type": "stream",
     "text": [
      "train_loss=1.9335, train_accuracy=26.310%\n"
     ]
    },
    {
     "name": "stderr",
     "output_type": "stream",
     "text": [
      "\n",
      "(val) Epoch=14, loss=1.896: 100%|██████████| 5/5 [00:00<00:00,  9.61it/s]"
     ]
    },
    {
     "name": "stdout",
     "output_type": "stream",
     "text": [
      "test_loss=1.8958, test_accuracy=26.300%\n",
      "Epoch: 15\n"
     ]
    },
    {
     "name": "stderr",
     "output_type": "stream",
     "text": [
      "\n",
      "(train) Epoch=15, lr=0.1920 loss=1.887: 100%|██████████| 24/24 [00:03<00:00,  7.85it/s]"
     ]
    },
    {
     "name": "stdout",
     "output_type": "stream",
     "text": [
      "train_loss=1.8873, train_accuracy=28.125%\n"
     ]
    },
    {
     "name": "stderr",
     "output_type": "stream",
     "text": [
      "\n",
      "(val) Epoch=15, loss=1.854: 100%|██████████| 5/5 [00:00<00:00,  9.26it/s]"
     ]
    },
    {
     "name": "stdout",
     "output_type": "stream",
     "text": [
      "test_loss=1.8537, test_accuracy=30.620%\n",
      "Epoch: 16\n"
     ]
    },
    {
     "name": "stderr",
     "output_type": "stream",
     "text": [
      "\n",
      "(train) Epoch=16, lr=0.1852 loss=1.855: 100%|██████████| 24/24 [00:03<00:00,  7.62it/s]"
     ]
    },
    {
     "name": "stdout",
     "output_type": "stream",
     "text": [
      "train_loss=1.8553, train_accuracy=29.415%\n"
     ]
    },
    {
     "name": "stderr",
     "output_type": "stream",
     "text": [
      "\n",
      "(val) Epoch=16, loss=1.925: 100%|██████████| 5/5 [00:00<00:00,  9.36it/s]"
     ]
    },
    {
     "name": "stdout",
     "output_type": "stream",
     "text": [
      "test_loss=1.9252, test_accuracy=26.470%\n",
      "Epoch: 17\n"
     ]
    },
    {
     "name": "stderr",
     "output_type": "stream",
     "text": [
      "\n",
      "(train) Epoch=17, lr=0.1782 loss=1.812: 100%|██████████| 24/24 [00:03<00:00,  7.85it/s]"
     ]
    },
    {
     "name": "stdout",
     "output_type": "stream",
     "text": [
      "train_loss=1.8119, train_accuracy=31.022%\n"
     ]
    },
    {
     "name": "stderr",
     "output_type": "stream",
     "text": [
      "\n",
      "(val) Epoch=17, loss=1.844: 100%|██████████| 5/5 [00:00<00:00,  9.71it/s]"
     ]
    },
    {
     "name": "stdout",
     "output_type": "stream",
     "text": [
      "test_loss=1.8440, test_accuracy=30.970%\n",
      "Epoch: 18\n"
     ]
    },
    {
     "name": "stderr",
     "output_type": "stream",
     "text": [
      "\n",
      "(train) Epoch=18, lr=0.1710 loss=1.785: 100%|██████████| 24/24 [00:03<00:00,  7.51it/s]"
     ]
    },
    {
     "name": "stdout",
     "output_type": "stream",
     "text": [
      "train_loss=1.7850, train_accuracy=32.660%\n"
     ]
    },
    {
     "name": "stderr",
     "output_type": "stream",
     "text": [
      "\n",
      "(val) Epoch=18, loss=1.790: 100%|██████████| 5/5 [00:00<00:00,  8.26it/s]"
     ]
    },
    {
     "name": "stdout",
     "output_type": "stream",
     "text": [
      "test_loss=1.7902, test_accuracy=33.110%\n",
      "Epoch: 19\n"
     ]
    },
    {
     "name": "stderr",
     "output_type": "stream",
     "text": [
      "\n",
      "(train) Epoch=19, lr=0.1636 loss=1.751: 100%|██████████| 24/24 [00:03<00:00,  7.65it/s]"
     ]
    },
    {
     "name": "stdout",
     "output_type": "stream",
     "text": [
      "train_loss=1.7512, train_accuracy=33.462%\n"
     ]
    },
    {
     "name": "stderr",
     "output_type": "stream",
     "text": [
      "\n",
      "(val) Epoch=19, loss=1.710: 100%|██████████| 5/5 [00:00<00:00,  9.07it/s]"
     ]
    },
    {
     "name": "stdout",
     "output_type": "stream",
     "text": [
      "test_loss=1.7100, test_accuracy=31.450%\n",
      "Epoch: 20\n"
     ]
    },
    {
     "name": "stderr",
     "output_type": "stream",
     "text": [
      "\n",
      "(train) Epoch=20, lr=0.1561 loss=1.724: 100%|██████████| 24/24 [00:03<00:00,  7.88it/s]\n"
     ]
    },
    {
     "name": "stdout",
     "output_type": "stream",
     "text": [
      "train_loss=1.7242, train_accuracy=34.576%\n"
     ]
    },
    {
     "name": "stderr",
     "output_type": "stream",
     "text": [
      "(val) Epoch=20, loss=1.966: 100%|██████████| 5/5 [00:00<00:00,  9.63it/s]"
     ]
    },
    {
     "name": "stdout",
     "output_type": "stream",
     "text": [
      "test_loss=1.9656, test_accuracy=29.040%\n",
      "Epoch: 21\n"
     ]
    },
    {
     "name": "stderr",
     "output_type": "stream",
     "text": [
      "\n",
      "(train) Epoch=21, lr=0.1484 loss=1.686: 100%|██████████| 24/24 [00:03<00:00,  7.78it/s]"
     ]
    },
    {
     "name": "stdout",
     "output_type": "stream",
     "text": [
      "train_loss=1.6863, train_accuracy=36.314%\n"
     ]
    },
    {
     "name": "stderr",
     "output_type": "stream",
     "text": [
      "\n",
      "(val) Epoch=21, loss=1.724: 100%|██████████| 5/5 [00:00<00:00,  9.34it/s]"
     ]
    },
    {
     "name": "stdout",
     "output_type": "stream",
     "text": [
      "test_loss=1.7239, test_accuracy=34.630%\n",
      "Epoch: 22\n"
     ]
    },
    {
     "name": "stderr",
     "output_type": "stream",
     "text": [
      "\n",
      "(train) Epoch=22, lr=0.1407 loss=1.668: 100%|██████████| 24/24 [00:03<00:00,  7.82it/s]\n"
     ]
    },
    {
     "name": "stdout",
     "output_type": "stream",
     "text": [
      "train_loss=1.6684, train_accuracy=37.016%\n"
     ]
    },
    {
     "name": "stderr",
     "output_type": "stream",
     "text": [
      "(val) Epoch=22, loss=1.691: 100%|██████████| 5/5 [00:00<00:00,  9.35it/s]"
     ]
    },
    {
     "name": "stdout",
     "output_type": "stream",
     "text": [
      "test_loss=1.6914, test_accuracy=35.640%\n",
      "Epoch: 23\n"
     ]
    },
    {
     "name": "stderr",
     "output_type": "stream",
     "text": [
      "\n",
      "(train) Epoch=23, lr=0.1328 loss=1.641: 100%|██████████| 24/24 [00:03<00:00,  7.47it/s]"
     ]
    },
    {
     "name": "stdout",
     "output_type": "stream",
     "text": [
      "train_loss=1.6409, train_accuracy=38.269%\n"
     ]
    },
    {
     "name": "stderr",
     "output_type": "stream",
     "text": [
      "\n",
      "(val) Epoch=23, loss=1.754: 100%|██████████| 5/5 [00:00<00:00,  9.47it/s]"
     ]
    },
    {
     "name": "stdout",
     "output_type": "stream",
     "text": [
      "test_loss=1.7538, test_accuracy=35.070%\n",
      "Epoch: 24\n"
     ]
    },
    {
     "name": "stderr",
     "output_type": "stream",
     "text": [
      "\n",
      "(train) Epoch=24, lr=0.1250 loss=1.619: 100%|██████████| 24/24 [00:03<00:00,  7.70it/s]"
     ]
    },
    {
     "name": "stdout",
     "output_type": "stream",
     "text": [
      "train_loss=1.6189, train_accuracy=38.932%\n"
     ]
    },
    {
     "name": "stderr",
     "output_type": "stream",
     "text": [
      "\n",
      "(val) Epoch=24, loss=1.679: 100%|██████████| 5/5 [00:00<00:00,  9.43it/s]"
     ]
    },
    {
     "name": "stdout",
     "output_type": "stream",
     "text": [
      "test_loss=1.6785, test_accuracy=36.540%\n",
      "Epoch: 25\n"
     ]
    },
    {
     "name": "stderr",
     "output_type": "stream",
     "text": [
      "\n",
      "(train) Epoch=25, lr=0.1172 loss=1.598: 100%|██████████| 24/24 [00:02<00:00,  8.27it/s]"
     ]
    },
    {
     "name": "stdout",
     "output_type": "stream",
     "text": [
      "train_loss=1.5983, train_accuracy=39.943%\n"
     ]
    },
    {
     "name": "stderr",
     "output_type": "stream",
     "text": [
      "\n",
      "(val) Epoch=25, loss=1.746: 100%|██████████| 5/5 [00:00<00:00,  9.53it/s]"
     ]
    },
    {
     "name": "stdout",
     "output_type": "stream",
     "text": [
      "test_loss=1.7455, test_accuracy=34.800%\n",
      "Epoch: 26\n"
     ]
    },
    {
     "name": "stderr",
     "output_type": "stream",
     "text": [
      "\n",
      "(train) Epoch=26, lr=0.1093 loss=1.585: 100%|██████████| 24/24 [00:03<00:00,  7.91it/s]"
     ]
    },
    {
     "name": "stdout",
     "output_type": "stream",
     "text": [
      "train_loss=1.5849, train_accuracy=40.397%\n"
     ]
    },
    {
     "name": "stderr",
     "output_type": "stream",
     "text": [
      "\n",
      "(val) Epoch=26, loss=1.642: 100%|██████████| 5/5 [00:00<00:00,  9.47it/s]"
     ]
    },
    {
     "name": "stdout",
     "output_type": "stream",
     "text": [
      "test_loss=1.6423, test_accuracy=38.250%\n",
      "Epoch: 27\n"
     ]
    },
    {
     "name": "stderr",
     "output_type": "stream",
     "text": [
      "\n",
      "(train) Epoch=27, lr=0.1016 loss=1.567: 100%|██████████| 24/24 [00:02<00:00,  8.05it/s]"
     ]
    },
    {
     "name": "stdout",
     "output_type": "stream",
     "text": [
      "train_loss=1.5667, train_accuracy=41.036%\n"
     ]
    },
    {
     "name": "stderr",
     "output_type": "stream",
     "text": [
      "\n",
      "(val) Epoch=27, loss=1.551: 100%|██████████| 5/5 [00:00<00:00,  9.28it/s]\n"
     ]
    },
    {
     "name": "stdout",
     "output_type": "stream",
     "text": [
      "test_loss=1.5509, test_accuracy=41.650%\n",
      "Epoch: 28\n"
     ]
    },
    {
     "name": "stderr",
     "output_type": "stream",
     "text": [
      "(train) Epoch=28, lr=0.0939 loss=1.544: 100%|██████████| 24/24 [00:03<00:00,  7.79it/s]"
     ]
    },
    {
     "name": "stdout",
     "output_type": "stream",
     "text": [
      "train_loss=1.5439, train_accuracy=41.996%\n"
     ]
    },
    {
     "name": "stderr",
     "output_type": "stream",
     "text": [
      "\n",
      "(val) Epoch=28, loss=1.919: 100%|██████████| 5/5 [00:00<00:00,  9.49it/s]"
     ]
    },
    {
     "name": "stdout",
     "output_type": "stream",
     "text": [
      "test_loss=1.9195, test_accuracy=30.610%\n",
      "Epoch: 29\n"
     ]
    },
    {
     "name": "stderr",
     "output_type": "stream",
     "text": [
      "\n",
      "(train) Epoch=29, lr=0.0864 loss=1.533: 100%|██████████| 24/24 [00:03<00:00,  7.90it/s]"
     ]
    },
    {
     "name": "stdout",
     "output_type": "stream",
     "text": [
      "train_loss=1.5327, train_accuracy=42.389%\n"
     ]
    },
    {
     "name": "stderr",
     "output_type": "stream",
     "text": [
      "\n",
      "(val) Epoch=29, loss=1.558: 100%|██████████| 5/5 [00:00<00:00,  9.36it/s]"
     ]
    },
    {
     "name": "stdout",
     "output_type": "stream",
     "text": [
      "test_loss=1.5583, test_accuracy=42.080%\n",
      "Epoch: 30\n"
     ]
    },
    {
     "name": "stderr",
     "output_type": "stream",
     "text": [
      "\n",
      "(train) Epoch=30, lr=0.0790 loss=1.528: 100%|██████████| 24/24 [00:02<00:00,  8.01it/s]"
     ]
    },
    {
     "name": "stdout",
     "output_type": "stream",
     "text": [
      "train_loss=1.5284, train_accuracy=43.113%\n"
     ]
    },
    {
     "name": "stderr",
     "output_type": "stream",
     "text": [
      "\n",
      "(val) Epoch=30, loss=1.678: 100%|██████████| 5/5 [00:00<00:00,  9.48it/s]\n"
     ]
    },
    {
     "name": "stdout",
     "output_type": "stream",
     "text": [
      "test_loss=1.6780, test_accuracy=38.120%\n",
      "Epoch: 31\n"
     ]
    },
    {
     "name": "stderr",
     "output_type": "stream",
     "text": [
      "(train) Epoch=31, lr=0.0718 loss=1.496: 100%|██████████| 24/24 [00:02<00:00,  8.18it/s]\n"
     ]
    },
    {
     "name": "stdout",
     "output_type": "stream",
     "text": [
      "train_loss=1.4958, train_accuracy=44.035%\n"
     ]
    },
    {
     "name": "stderr",
     "output_type": "stream",
     "text": [
      "(val) Epoch=31, loss=1.528: 100%|██████████| 5/5 [00:00<00:00,  9.16it/s]"
     ]
    },
    {
     "name": "stdout",
     "output_type": "stream",
     "text": [
      "test_loss=1.5282, test_accuracy=44.240%\n",
      "Epoch: 32\n"
     ]
    },
    {
     "name": "stderr",
     "output_type": "stream",
     "text": [
      "\n",
      "(train) Epoch=32, lr=0.0648 loss=1.489: 100%|██████████| 24/24 [00:03<00:00,  7.73it/s]"
     ]
    },
    {
     "name": "stdout",
     "output_type": "stream",
     "text": [
      "train_loss=1.4894, train_accuracy=44.442%\n"
     ]
    },
    {
     "name": "stderr",
     "output_type": "stream",
     "text": [
      "\n",
      "(val) Epoch=32, loss=1.540: 100%|██████████| 5/5 [00:00<00:00,  8.78it/s]"
     ]
    },
    {
     "name": "stdout",
     "output_type": "stream",
     "text": [
      "test_loss=1.5397, test_accuracy=42.190%\n",
      "Epoch: 33\n"
     ]
    },
    {
     "name": "stderr",
     "output_type": "stream",
     "text": [
      "\n",
      "(train) Epoch=33, lr=0.0580 loss=1.458: 100%|██████████| 24/24 [00:03<00:00,  7.60it/s]"
     ]
    },
    {
     "name": "stdout",
     "output_type": "stream",
     "text": [
      "train_loss=1.4581, train_accuracy=45.740%\n"
     ]
    },
    {
     "name": "stderr",
     "output_type": "stream",
     "text": [
      "\n",
      "(val) Epoch=33, loss=1.453: 100%|██████████| 5/5 [00:00<00:00,  9.17it/s]"
     ]
    },
    {
     "name": "stdout",
     "output_type": "stream",
     "text": [
      "test_loss=1.4530, test_accuracy=45.570%\n",
      "Epoch: 34\n"
     ]
    },
    {
     "name": "stderr",
     "output_type": "stream",
     "text": [
      "\n",
      "(train) Epoch=34, lr=0.0515 loss=1.438: 100%|██████████| 24/24 [00:03<00:00,  7.90it/s]"
     ]
    },
    {
     "name": "stdout",
     "output_type": "stream",
     "text": [
      "train_loss=1.4381, train_accuracy=46.417%\n"
     ]
    },
    {
     "name": "stderr",
     "output_type": "stream",
     "text": [
      "\n",
      "(val) Epoch=34, loss=1.534: 100%|██████████| 5/5 [00:00<00:00,  9.26it/s]"
     ]
    },
    {
     "name": "stdout",
     "output_type": "stream",
     "text": [
      "test_loss=1.5340, test_accuracy=44.210%\n",
      "Epoch: 35\n"
     ]
    },
    {
     "name": "stderr",
     "output_type": "stream",
     "text": [
      "\n",
      "(train) Epoch=35, lr=0.0453 loss=1.427: 100%|██████████| 24/24 [00:03<00:00,  7.33it/s]"
     ]
    },
    {
     "name": "stdout",
     "output_type": "stream",
     "text": [
      "train_loss=1.4266, train_accuracy=47.070%\n"
     ]
    },
    {
     "name": "stderr",
     "output_type": "stream",
     "text": [
      "\n",
      "(val) Epoch=35, loss=1.410: 100%|██████████| 5/5 [00:00<00:00,  9.56it/s]"
     ]
    },
    {
     "name": "stdout",
     "output_type": "stream",
     "text": [
      "test_loss=1.4100, test_accuracy=46.620%\n",
      "Epoch: 36\n"
     ]
    },
    {
     "name": "stderr",
     "output_type": "stream",
     "text": [
      "\n",
      "(train) Epoch=36, lr=0.0394 loss=1.410: 100%|██████████| 24/24 [00:03<00:00,  7.75it/s]"
     ]
    },
    {
     "name": "stdout",
     "output_type": "stream",
     "text": [
      "train_loss=1.4104, train_accuracy=47.618%\n"
     ]
    },
    {
     "name": "stderr",
     "output_type": "stream",
     "text": [
      "\n",
      "(val) Epoch=36, loss=1.423: 100%|██████████| 5/5 [00:00<00:00,  9.28it/s]"
     ]
    },
    {
     "name": "stdout",
     "output_type": "stream",
     "text": [
      "test_loss=1.4229, test_accuracy=46.570%\n",
      "Epoch: 37\n"
     ]
    },
    {
     "name": "stderr",
     "output_type": "stream",
     "text": [
      "\n",
      "(train) Epoch=37, lr=0.0339 loss=1.402: 100%|██████████| 24/24 [00:03<00:00,  7.99it/s]"
     ]
    },
    {
     "name": "stdout",
     "output_type": "stream",
     "text": [
      "train_loss=1.4022, train_accuracy=47.764%\n"
     ]
    },
    {
     "name": "stderr",
     "output_type": "stream",
     "text": [
      "\n",
      "(val) Epoch=37, loss=1.443: 100%|██████████| 5/5 [00:00<00:00,  9.18it/s]"
     ]
    },
    {
     "name": "stdout",
     "output_type": "stream",
     "text": [
      "test_loss=1.4428, test_accuracy=46.710%\n",
      "Epoch: 38\n"
     ]
    },
    {
     "name": "stderr",
     "output_type": "stream",
     "text": [
      "\n",
      "(train) Epoch=38, lr=0.0287 loss=1.384: 100%|██████████| 24/24 [00:02<00:00,  8.09it/s]"
     ]
    },
    {
     "name": "stdout",
     "output_type": "stream",
     "text": [
      "train_loss=1.3844, train_accuracy=48.710%\n"
     ]
    },
    {
     "name": "stderr",
     "output_type": "stream",
     "text": [
      "\n",
      "(val) Epoch=38, loss=1.437: 100%|██████████| 5/5 [00:00<00:00,  9.27it/s]"
     ]
    },
    {
     "name": "stdout",
     "output_type": "stream",
     "text": [
      "test_loss=1.4368, test_accuracy=47.680%\n",
      "Epoch: 39\n"
     ]
    },
    {
     "name": "stderr",
     "output_type": "stream",
     "text": [
      "\n",
      "(train) Epoch=39, lr=0.0239 loss=1.376: 100%|██████████| 24/24 [00:03<00:00,  7.60it/s]"
     ]
    },
    {
     "name": "stdout",
     "output_type": "stream",
     "text": [
      "train_loss=1.3757, train_accuracy=49.184%\n"
     ]
    },
    {
     "name": "stderr",
     "output_type": "stream",
     "text": [
      "\n",
      "(val) Epoch=39, loss=1.402: 100%|██████████| 5/5 [00:00<00:00,  8.87it/s]"
     ]
    },
    {
     "name": "stdout",
     "output_type": "stream",
     "text": [
      "test_loss=1.4021, test_accuracy=47.900%\n",
      "Epoch: 40\n"
     ]
    },
    {
     "name": "stderr",
     "output_type": "stream",
     "text": [
      "\n",
      "(train) Epoch=40, lr=0.0195 loss=1.358: 100%|██████████| 24/24 [00:02<00:00,  8.02it/s]"
     ]
    },
    {
     "name": "stdout",
     "output_type": "stream",
     "text": [
      "train_loss=1.3579, train_accuracy=49.522%\n"
     ]
    },
    {
     "name": "stderr",
     "output_type": "stream",
     "text": [
      "\n",
      "(val) Epoch=40, loss=1.321: 100%|██████████| 5/5 [00:00<00:00,  9.68it/s]"
     ]
    },
    {
     "name": "stdout",
     "output_type": "stream",
     "text": [
      "test_loss=1.3211, test_accuracy=51.530%\n",
      "Epoch: 41\n"
     ]
    },
    {
     "name": "stderr",
     "output_type": "stream",
     "text": [
      "\n",
      "(train) Epoch=41, lr=0.0155 loss=1.349: 100%|██████████| 24/24 [00:03<00:00,  7.92it/s]"
     ]
    },
    {
     "name": "stdout",
     "output_type": "stream",
     "text": [
      "train_loss=1.3488, train_accuracy=49.986%\n"
     ]
    },
    {
     "name": "stderr",
     "output_type": "stream",
     "text": [
      "\n",
      "(val) Epoch=41, loss=1.434: 100%|██████████| 5/5 [00:00<00:00,  9.61it/s]"
     ]
    },
    {
     "name": "stdout",
     "output_type": "stream",
     "text": [
      "test_loss=1.4337, test_accuracy=47.850%\n",
      "Epoch: 42\n"
     ]
    },
    {
     "name": "stderr",
     "output_type": "stream",
     "text": [
      "\n",
      "(train) Epoch=42, lr=0.0119 loss=1.351: 100%|██████████| 24/24 [00:02<00:00,  8.03it/s]"
     ]
    },
    {
     "name": "stdout",
     "output_type": "stream",
     "text": [
      "train_loss=1.3510, train_accuracy=49.797%\n"
     ]
    },
    {
     "name": "stderr",
     "output_type": "stream",
     "text": [
      "\n",
      "(val) Epoch=42, loss=1.467: 100%|██████████| 5/5 [00:00<00:00,  9.61it/s]"
     ]
    },
    {
     "name": "stdout",
     "output_type": "stream",
     "text": [
      "test_loss=1.4670, test_accuracy=46.680%\n",
      "Epoch: 43\n"
     ]
    },
    {
     "name": "stderr",
     "output_type": "stream",
     "text": [
      "\n",
      "(train) Epoch=43, lr=0.0088 loss=1.342: 100%|██████████| 24/24 [00:03<00:00,  7.95it/s]\n"
     ]
    },
    {
     "name": "stdout",
     "output_type": "stream",
     "text": [
      "train_loss=1.3425, train_accuracy=50.350%\n"
     ]
    },
    {
     "name": "stderr",
     "output_type": "stream",
     "text": [
      "(val) Epoch=43, loss=1.435: 100%|██████████| 5/5 [00:00<00:00,  9.40it/s]"
     ]
    },
    {
     "name": "stdout",
     "output_type": "stream",
     "text": [
      "test_loss=1.4354, test_accuracy=46.600%\n",
      "Epoch: 44\n"
     ]
    },
    {
     "name": "stderr",
     "output_type": "stream",
     "text": [
      "\n",
      "(train) Epoch=44, lr=0.0061 loss=1.340: 100%|██████████| 24/24 [00:03<00:00,  7.92it/s]\n"
     ]
    },
    {
     "name": "stdout",
     "output_type": "stream",
     "text": [
      "train_loss=1.3401, train_accuracy=50.346%\n"
     ]
    },
    {
     "name": "stderr",
     "output_type": "stream",
     "text": [
      "(val) Epoch=44, loss=1.312: 100%|██████████| 5/5 [00:00<00:00,  9.50it/s]"
     ]
    },
    {
     "name": "stdout",
     "output_type": "stream",
     "text": [
      "test_loss=1.3122, test_accuracy=51.200%\n",
      "Epoch: 45\n"
     ]
    },
    {
     "name": "stderr",
     "output_type": "stream",
     "text": [
      "\n",
      "(train) Epoch=45, lr=0.0039 loss=1.333: 100%|██████████| 24/24 [00:03<00:00,  7.92it/s]"
     ]
    },
    {
     "name": "stdout",
     "output_type": "stream",
     "text": [
      "train_loss=1.3334, train_accuracy=50.732%\n"
     ]
    },
    {
     "name": "stderr",
     "output_type": "stream",
     "text": [
      "\n",
      "(val) Epoch=45, loss=1.427: 100%|██████████| 5/5 [00:00<00:00,  9.31it/s]"
     ]
    },
    {
     "name": "stdout",
     "output_type": "stream",
     "text": [
      "test_loss=1.4265, test_accuracy=48.110%\n",
      "Epoch: 46\n"
     ]
    },
    {
     "name": "stderr",
     "output_type": "stream",
     "text": [
      "\n",
      "(train) Epoch=46, lr=0.0022 loss=1.329: 100%|██████████| 24/24 [00:03<00:00,  7.95it/s]"
     ]
    },
    {
     "name": "stdout",
     "output_type": "stream",
     "text": [
      "train_loss=1.3291, train_accuracy=51.196%\n"
     ]
    },
    {
     "name": "stderr",
     "output_type": "stream",
     "text": [
      "\n",
      "(val) Epoch=46, loss=1.344: 100%|██████████| 5/5 [00:00<00:00,  9.31it/s]\n"
     ]
    },
    {
     "name": "stdout",
     "output_type": "stream",
     "text": [
      "test_loss=1.3441, test_accuracy=50.620%\n",
      "Epoch: 47\n"
     ]
    },
    {
     "name": "stderr",
     "output_type": "stream",
     "text": [
      "(train) Epoch=47, lr=0.0010 loss=1.332: 100%|██████████| 24/24 [00:03<00:00,  7.99it/s]"
     ]
    },
    {
     "name": "stdout",
     "output_type": "stream",
     "text": [
      "train_loss=1.3317, train_accuracy=51.180%\n"
     ]
    },
    {
     "name": "stderr",
     "output_type": "stream",
     "text": [
      "\n",
      "(val) Epoch=47, loss=1.420: 100%|██████████| 5/5 [00:00<00:00,  9.69it/s]"
     ]
    },
    {
     "name": "stdout",
     "output_type": "stream",
     "text": [
      "test_loss=1.4198, test_accuracy=47.000%\n",
      "Epoch: 48\n"
     ]
    },
    {
     "name": "stderr",
     "output_type": "stream",
     "text": [
      "\n",
      "(train) Epoch=48, lr=0.0002 loss=1.328: 100%|██████████| 24/24 [00:03<00:00,  8.00it/s]"
     ]
    },
    {
     "name": "stdout",
     "output_type": "stream",
     "text": [
      "train_loss=1.3276, train_accuracy=50.918%\n"
     ]
    },
    {
     "name": "stderr",
     "output_type": "stream",
     "text": [
      "\n",
      "(val) Epoch=48, loss=1.355: 100%|██████████| 5/5 [00:00<00:00,  9.61it/s]"
     ]
    },
    {
     "name": "stdout",
     "output_type": "stream",
     "text": [
      "test_loss=1.3547, test_accuracy=49.960%\n",
      "Epoch: 49\n"
     ]
    },
    {
     "name": "stderr",
     "output_type": "stream",
     "text": [
      "\n",
      "(train) Epoch=49, lr=0.0000 loss=1.322: 100%|██████████| 24/24 [00:03<00:00,  7.95it/s]"
     ]
    },
    {
     "name": "stdout",
     "output_type": "stream",
     "text": [
      "train_loss=1.3220, train_accuracy=51.404%\n"
     ]
    },
    {
     "name": "stderr",
     "output_type": "stream",
     "text": [
      "\n",
      "(val) Epoch=49, loss=1.297: 100%|██████████| 5/5 [00:00<00:00,  9.53it/s]"
     ]
    },
    {
     "name": "stdout",
     "output_type": "stream",
     "text": [
      "test_loss=1.2969, test_accuracy=51.580%\n"
     ]
    },
    {
     "name": "stderr",
     "output_type": "stream",
     "text": [
      "\n"
     ]
    }
   ],
   "execution_count": 21
  },
  {
   "cell_type": "markdown",
   "id": "63a6b6b5",
   "metadata": {},
   "source": [
    "### Save supernet weights"
   ]
  },
  {
   "cell_type": "code",
   "id": "0a4fdcef",
   "metadata": {
    "ExecuteTime": {
     "end_time": "2025-03-10T20:04:58.728892Z",
     "start_time": "2025-03-10T20:04:58.572554Z"
    }
   },
   "source": [
    "torch.save(supernet.state_dict(), 'supernet.pth')"
   ],
   "outputs": [],
   "execution_count": 22
  },
  {
   "cell_type": "markdown",
   "id": "e1b1489c",
   "metadata": {},
   "source": [
    "## Neural Architecture Search - Random Search."
   ]
  },
  {
   "metadata": {
    "ExecuteTime": {
     "end_time": "2025-03-10T20:13:34.468621Z",
     "start_time": "2025-03-10T20:13:34.464920Z"
    }
   },
   "cell_type": "code",
   "source": [
    "def evaluate_accuracy(model: nn.Module, dataloader: DataLoader, device: torch.device) -> float:\n",
    "    \"\"\"Вычисление точности модели на данных.\"\"\"\n",
    "    model.eval()\n",
    "    correct = 0\n",
    "    total = 0\n",
    "    with torch.no_grad():\n",
    "        for inputs, labels in tqdm(dataloader, desc=\"Evaluation\", leave=False):\n",
    "            inputs, labels = inputs.to(device), labels.to(device)\n",
    "            outputs = model(inputs)\n",
    "            _, predicted = torch.max(outputs, 1)\n",
    "            total += labels.size(0)\n",
    "            correct += (predicted == labels).sum().item()\n",
    "    return correct / total\n",
    "\n",
    "def estimate_latency(model) -> float:\n",
    "    \"\"\"Оценка задержки архитектуры (заглушка с примерной логикой).\"\"\"\n",
    "    latency = 0.0\n",
    "    for block in model.search_blocks:\n",
    "        idx = block.active_index.item()\n",
    "        latency += (idx + 1) * 1e6  # Пример: каждая операция добавляет 1 мс\n",
    "    return latency"
   ],
   "id": "410b5409c1693661",
   "outputs": [],
   "execution_count": 23
  },
  {
   "cell_type": "code",
   "id": "0b388aaa",
   "metadata": {
    "ExecuteTime": {
     "end_time": "2025-03-10T20:13:35.858137Z",
     "start_time": "2025-03-10T20:13:35.853695Z"
    }
   },
   "source": [
    "def random_search(\n",
    "        trained_supernet: nn.Module,\n",
    "        train_dataloader: DataLoader,\n",
    "        val_dataloader: DataLoader,\n",
    "        device: torch.device,\n",
    "        n_architectures_to_test: int,\n",
    "        target_latency: float,\n",
    "):\n",
    "    history = []\n",
    "    \n",
    "    for _ in tqdm(range(n_architectures_to_test), desc=\"Random Search\"):\n",
    "        trained_supernet.sample_random_architecture()\n",
    "        accuracy = evaluate_accuracy(trained_supernet, val_dataloader, device)\n",
    "        latency = estimate_latency(trained_supernet)\n",
    "        architecture = [block.active_index.item() for block in trained_supernet.search_blocks]\n",
    "\n",
    "        history.append({\n",
    "            \"accuracy\": accuracy,\n",
    "            \"latency\": latency,\n",
    "            \"architecture\": architecture.copy()\n",
    "        })\n",
    "    \n",
    "    # find best\n",
    "    valid_results = [x for x in history if x[\"latency\"] <= target_latency]\n",
    "    if not valid_results:\n",
    "        return 0.0, [], history\n",
    "    \n",
    "    best = max(valid_results, key=lambda x: x[\"accuracy\"])\n",
    "    return best[\"accuracy\"], best[\"architecture\"], history"
   ],
   "outputs": [],
   "execution_count": 24
  },
  {
   "metadata": {
    "ExecuteTime": {
     "end_time": "2025-03-10T20:18:51.509509Z",
     "start_time": "2025-03-10T20:18:51.502139Z"
    }
   },
   "cell_type": "code",
   "source": [
    "def train_best_architecture(\n",
    "    best_architecture,\n",
    "    train_loader: DataLoader,\n",
    "    val_loader: DataLoader,\n",
    "    device: torch.device,\n",
    "    num_epochs: int = 50,\n",
    ") -> nn.Module:\n",
    "    model = supernet(\n",
    "        block=BasicBlock,\n",
    "        layers=[2, 2, 2, 2],\n",
    "        channel_multipliers=(1.0, 0.5, 1.5)\n",
    "    ).to(device)\n",
    "    model.sample(best_architecture)\n",
    "    \n",
    "    criterion = nn.CrossEntropyLoss()\n",
    "    optimizer = torch.optim.SGD(model.parameters(), lr=0.1, momentum=0.9, weight_decay=1e-4)\n",
    "    \n",
    "    for epoch in range(num_epochs):\n",
    "        model.train()\n",
    "        for inputs, labels in tqdm(train_loader, desc=f\"Epoch {epoch+1}\"):\n",
    "            inputs, labels = inputs.to(device), labels.to(device)\n",
    "            \n",
    "            optimizer.zero_grad()\n",
    "            outputs = model(inputs)\n",
    "            loss = criterion(outputs, labels)\n",
    "            loss.backward()\n",
    "            optimizer.step()\n",
    "        \n",
    "        # Валидация\n",
    "        val_acc = evaluate_accuracy(model, val_loader, device)\n",
    "        print(f\"Epoch {epoch+1}: Val Acc = {val_acc:.2%}\")\n",
    "    \n",
    "    return model"
   ],
   "id": "c133efbdf03b12f6",
   "outputs": [],
   "execution_count": 31
  },
  {
   "cell_type": "code",
   "id": "798944f2",
   "metadata": {
    "ExecuteTime": {
     "end_time": "2025-03-10T20:17:15.736902Z",
     "start_time": "2025-03-10T20:16:12.060778Z"
    }
   },
   "source": [
    "n_architectures_to_test = 100\n",
    "target_latency = 30 * 1e6\n",
    "\n",
    "best_acc, best_arch, history = random_search(\n",
    "    trained_supernet=supernet,\n",
    "    train_dataloader=train_dataloader,\n",
    "    val_dataloader=test_dataloader,\n",
    "    device=device,\n",
    "    n_architectures_to_test=100,\n",
    "    target_latency=30*1e6,\n",
    ")\n",
    "\n",
    "print(f'best architecture: {best_arch} (test_accuracy={best_acc:.3%})')"
   ],
   "outputs": [
    {
     "name": "stderr",
     "output_type": "stream",
     "text": [
      "Random Search:   0%|          | 0/100 [00:00<?, ?it/s]\n",
      "Evaluation:   0%|          | 0/5 [00:00<?, ?it/s]\u001B[A\n",
      "Evaluation:  20%|██        | 1/5 [00:00<00:01,  2.70it/s]\u001B[A\n",
      "Evaluation:  80%|████████  | 4/5 [00:00<00:00,  9.84it/s]\u001B[A\n",
      "Random Search:   1%|          | 1/100 [00:00<01:00,  1.63it/s]\n",
      "Evaluation:   0%|          | 0/5 [00:00<?, ?it/s]\u001B[A\n",
      "Evaluation:  20%|██        | 1/5 [00:00<00:01,  2.57it/s]\u001B[A\n",
      "Evaluation:  80%|████████  | 4/5 [00:00<00:00,  9.52it/s]\u001B[A\n",
      "Random Search:   2%|▏         | 2/100 [00:01<01:01,  1.59it/s]\n",
      "Evaluation:   0%|          | 0/5 [00:00<?, ?it/s]\u001B[A\n",
      "Evaluation:  20%|██        | 1/5 [00:00<00:01,  2.74it/s]\u001B[A\n",
      "Evaluation:  80%|████████  | 4/5 [00:00<00:00,  9.94it/s]\u001B[A\n",
      "Random Search:   3%|▎         | 3/100 [00:01<00:59,  1.63it/s]\n",
      "Evaluation:   0%|          | 0/5 [00:00<?, ?it/s]\u001B[A\n",
      "Evaluation:  20%|██        | 1/5 [00:00<00:01,  2.70it/s]\u001B[A\n",
      "Evaluation:  80%|████████  | 4/5 [00:00<00:00, 10.01it/s]\u001B[A\n",
      "Random Search:   4%|▍         | 4/100 [00:02<00:59,  1.61it/s]\n",
      "Evaluation:   0%|          | 0/5 [00:00<?, ?it/s]\u001B[A\n",
      "Evaluation:  20%|██        | 1/5 [00:00<00:01,  2.61it/s]\u001B[A\n",
      "Evaluation:  80%|████████  | 4/5 [00:00<00:00,  9.31it/s]\u001B[A\n",
      "Random Search:   5%|▌         | 5/100 [00:03<00:59,  1.60it/s]\n",
      "Evaluation:   0%|          | 0/5 [00:00<?, ?it/s]\u001B[A\n",
      "Evaluation:  20%|██        | 1/5 [00:00<00:01,  2.73it/s]\u001B[A\n",
      "Evaluation:  80%|████████  | 4/5 [00:00<00:00, 10.05it/s]\u001B[A\n",
      "Random Search:   6%|▌         | 6/100 [00:03<00:58,  1.61it/s]\n",
      "Evaluation:   0%|          | 0/5 [00:00<?, ?it/s]\u001B[A\n",
      "Evaluation:  20%|██        | 1/5 [00:00<00:01,  2.75it/s]\u001B[A\n",
      "Evaluation:  80%|████████  | 4/5 [00:00<00:00,  9.98it/s]\u001B[A\n",
      "Random Search:   7%|▋         | 7/100 [00:04<00:57,  1.63it/s]\n",
      "Evaluation:   0%|          | 0/5 [00:00<?, ?it/s]\u001B[A\n",
      "Evaluation:  20%|██        | 1/5 [00:00<00:01,  2.61it/s]\u001B[A\n",
      "Evaluation:  80%|████████  | 4/5 [00:00<00:00,  9.31it/s]\u001B[A\n",
      "Random Search:   8%|▊         | 8/100 [00:04<00:57,  1.60it/s]\n",
      "Evaluation:   0%|          | 0/5 [00:00<?, ?it/s]\u001B[A\n",
      "Evaluation:  20%|██        | 1/5 [00:00<00:01,  2.39it/s]\u001B[A\n",
      "Evaluation:  60%|██████    | 3/5 [00:00<00:00,  6.73it/s]\u001B[A\n",
      "Random Search:   9%|▉         | 9/100 [00:05<00:57,  1.58it/s]\n",
      "Evaluation:   0%|          | 0/5 [00:00<?, ?it/s]\u001B[A\n",
      "Evaluation:  20%|██        | 1/5 [00:00<00:01,  2.60it/s]\u001B[A\n",
      "Evaluation:  80%|████████  | 4/5 [00:00<00:00,  9.65it/s]\u001B[A\n",
      "Random Search:  10%|█         | 10/100 [00:06<00:56,  1.59it/s]\n",
      "Evaluation:   0%|          | 0/5 [00:00<?, ?it/s]\u001B[A\n",
      "Evaluation:  20%|██        | 1/5 [00:00<00:01,  2.60it/s]\u001B[A\n",
      "Evaluation:  80%|████████  | 4/5 [00:00<00:00,  9.72it/s]\u001B[A\n",
      "Random Search:  11%|█         | 11/100 [00:06<00:55,  1.60it/s]\n",
      "Evaluation:   0%|          | 0/5 [00:00<?, ?it/s]\u001B[A\n",
      "Evaluation:  20%|██        | 1/5 [00:00<00:01,  2.59it/s]\u001B[A\n",
      "Evaluation:  80%|████████  | 4/5 [00:00<00:00,  9.78it/s]\u001B[A\n",
      "Random Search:  12%|█▏        | 12/100 [00:07<00:55,  1.58it/s]\n",
      "Evaluation:   0%|          | 0/5 [00:00<?, ?it/s]\u001B[A\n",
      "Evaluation:  20%|██        | 1/5 [00:00<00:01,  2.71it/s]\u001B[A\n",
      "Evaluation:  80%|████████  | 4/5 [00:00<00:00,  9.82it/s]\u001B[A\n",
      "Random Search:  13%|█▎        | 13/100 [00:08<00:54,  1.59it/s]\n",
      "Evaluation:   0%|          | 0/5 [00:00<?, ?it/s]\u001B[A\n",
      "Evaluation:  20%|██        | 1/5 [00:00<00:01,  2.70it/s]\u001B[A\n",
      "Evaluation:  80%|████████  | 4/5 [00:00<00:00,  9.66it/s]\u001B[A\n",
      "Random Search:  14%|█▍        | 14/100 [00:08<00:53,  1.60it/s]\n",
      "Evaluation:   0%|          | 0/5 [00:00<?, ?it/s]\u001B[A\n",
      "Evaluation:  20%|██        | 1/5 [00:00<00:01,  2.73it/s]\u001B[A\n",
      "Evaluation: 100%|██████████| 5/5 [00:00<00:00, 10.07it/s]\u001B[A\n",
      "Random Search:  15%|█▌        | 15/100 [00:09<00:52,  1.60it/s]\n",
      "Evaluation:   0%|          | 0/5 [00:00<?, ?it/s]\u001B[A\n",
      "Evaluation:  20%|██        | 1/5 [00:00<00:01,  2.65it/s]\u001B[A\n",
      "Evaluation:  80%|████████  | 4/5 [00:00<00:00,  9.56it/s]\u001B[A\n",
      "Random Search:  16%|█▌        | 16/100 [00:09<00:52,  1.61it/s]\n",
      "Evaluation:   0%|          | 0/5 [00:00<?, ?it/s]\u001B[A\n",
      "Evaluation:  20%|██        | 1/5 [00:00<00:01,  2.63it/s]\u001B[A\n",
      "Evaluation:  80%|████████  | 4/5 [00:00<00:00,  9.91it/s]\u001B[A\n",
      "Random Search:  17%|█▋        | 17/100 [00:10<00:51,  1.61it/s]\n",
      "Evaluation:   0%|          | 0/5 [00:00<?, ?it/s]\u001B[A\n",
      "Evaluation:  20%|██        | 1/5 [00:00<00:01,  2.71it/s]\u001B[A\n",
      "Evaluation:  80%|████████  | 4/5 [00:00<00:00, 10.29it/s]\u001B[A\n",
      "Random Search:  18%|█▊        | 18/100 [00:11<00:50,  1.62it/s]\n",
      "Evaluation:   0%|          | 0/5 [00:00<?, ?it/s]\u001B[A\n",
      "Evaluation:  20%|██        | 1/5 [00:00<00:01,  2.70it/s]\u001B[A\n",
      "Evaluation:  80%|████████  | 4/5 [00:00<00:00,  9.95it/s]\u001B[A\n",
      "Random Search:  19%|█▉        | 19/100 [00:11<00:50,  1.62it/s]\n",
      "Evaluation:   0%|          | 0/5 [00:00<?, ?it/s]\u001B[A\n",
      "Evaluation:  20%|██        | 1/5 [00:00<00:01,  2.57it/s]\u001B[A\n",
      "Evaluation:  80%|████████  | 4/5 [00:00<00:00,  9.37it/s]\u001B[A\n",
      "Random Search:  20%|██        | 20/100 [00:12<00:50,  1.59it/s]\n",
      "Evaluation:   0%|          | 0/5 [00:00<?, ?it/s]\u001B[A\n",
      "Evaluation:  20%|██        | 1/5 [00:00<00:01,  2.63it/s]\u001B[A\n",
      "Evaluation:  80%|████████  | 4/5 [00:00<00:00,  9.74it/s]\u001B[A\n",
      "Random Search:  21%|██        | 21/100 [00:13<00:49,  1.60it/s]\n",
      "Evaluation:   0%|          | 0/5 [00:00<?, ?it/s]\u001B[A\n",
      "Evaluation:  20%|██        | 1/5 [00:00<00:01,  2.71it/s]\u001B[A\n",
      "Evaluation:  80%|████████  | 4/5 [00:00<00:00,  9.75it/s]\u001B[A\n",
      "Random Search:  22%|██▏       | 22/100 [00:13<00:48,  1.62it/s]\n",
      "Evaluation:   0%|          | 0/5 [00:00<?, ?it/s]\u001B[A\n",
      "Evaluation:  20%|██        | 1/5 [00:00<00:01,  2.68it/s]\u001B[A\n",
      "Evaluation:  80%|████████  | 4/5 [00:00<00:00,  9.49it/s]\u001B[A\n",
      "Random Search:  23%|██▎       | 23/100 [00:14<00:47,  1.62it/s]\n",
      "Evaluation:   0%|          | 0/5 [00:00<?, ?it/s]\u001B[A\n",
      "Evaluation:  20%|██        | 1/5 [00:00<00:01,  2.67it/s]\u001B[A\n",
      "Evaluation:  80%|████████  | 4/5 [00:00<00:00,  8.94it/s]\u001B[A\n",
      "Random Search:  24%|██▍       | 24/100 [00:14<00:47,  1.60it/s]\n",
      "Evaluation:   0%|          | 0/5 [00:00<?, ?it/s]\u001B[A\n",
      "Evaluation:  20%|██        | 1/5 [00:00<00:01,  2.64it/s]\u001B[A\n",
      "Evaluation:  80%|████████  | 4/5 [00:00<00:00,  9.11it/s]\u001B[A\n",
      "Random Search:  25%|██▌       | 25/100 [00:15<00:46,  1.61it/s]\n",
      "Evaluation:   0%|          | 0/5 [00:00<?, ?it/s]\u001B[A\n",
      "Evaluation:  20%|██        | 1/5 [00:00<00:01,  2.57it/s]\u001B[A\n",
      "Evaluation:  80%|████████  | 4/5 [00:00<00:00,  9.47it/s]\u001B[A\n",
      "Random Search:  26%|██▌       | 26/100 [00:16<00:46,  1.60it/s]\n",
      "Evaluation:   0%|          | 0/5 [00:00<?, ?it/s]\u001B[A\n",
      "Evaluation:  20%|██        | 1/5 [00:00<00:01,  2.67it/s]\u001B[A\n",
      "Evaluation:  80%|████████  | 4/5 [00:00<00:00,  9.54it/s]\u001B[A\n",
      "Random Search:  27%|██▋       | 27/100 [00:16<00:45,  1.60it/s]\n",
      "Evaluation:   0%|          | 0/5 [00:00<?, ?it/s]\u001B[A\n",
      "Evaluation:  20%|██        | 1/5 [00:00<00:01,  2.68it/s]\u001B[A\n",
      "Evaluation:  80%|████████  | 4/5 [00:00<00:00,  9.21it/s]\u001B[A\n",
      "Random Search:  28%|██▊       | 28/100 [00:17<00:44,  1.61it/s]\n",
      "Evaluation:   0%|          | 0/5 [00:00<?, ?it/s]\u001B[A\n",
      "Evaluation:  20%|██        | 1/5 [00:00<00:01,  2.39it/s]\u001B[A\n",
      "Evaluation:  80%|████████  | 4/5 [00:00<00:00,  8.80it/s]\u001B[A\n",
      "Random Search:  29%|██▉       | 29/100 [00:18<00:45,  1.57it/s]\n",
      "Evaluation:   0%|          | 0/5 [00:00<?, ?it/s]\u001B[A\n",
      "Evaluation:  20%|██        | 1/5 [00:00<00:01,  2.44it/s]\u001B[A\n",
      "Evaluation:  80%|████████  | 4/5 [00:00<00:00,  8.55it/s]\u001B[A\n",
      "Random Search:  30%|███       | 30/100 [00:18<00:45,  1.55it/s]\n",
      "Evaluation:   0%|          | 0/5 [00:00<?, ?it/s]\u001B[A\n",
      "Evaluation:  20%|██        | 1/5 [00:00<00:01,  2.52it/s]\u001B[A\n",
      "Evaluation:  80%|████████  | 4/5 [00:00<00:00,  9.43it/s]\u001B[A\n",
      "Random Search:  31%|███       | 31/100 [00:19<00:44,  1.56it/s]\n",
      "Evaluation:   0%|          | 0/5 [00:00<?, ?it/s]\u001B[A\n",
      "Evaluation:  20%|██        | 1/5 [00:00<00:01,  2.64it/s]\u001B[A\n",
      "Evaluation:  60%|██████    | 3/5 [00:00<00:00,  7.34it/s]\u001B[A\n",
      "Evaluation: 100%|██████████| 5/5 [00:00<00:00, 10.68it/s]\u001B[A\n",
      "Random Search:  32%|███▏      | 32/100 [00:20<00:43,  1.57it/s]\n",
      "Evaluation:   0%|          | 0/5 [00:00<?, ?it/s]\u001B[A\n",
      "Evaluation:  20%|██        | 1/5 [00:00<00:01,  2.64it/s]\u001B[A\n",
      "Evaluation:  80%|████████  | 4/5 [00:00<00:00,  9.48it/s]\u001B[A\n",
      "Random Search:  33%|███▎      | 33/100 [00:20<00:42,  1.59it/s]\n",
      "Evaluation:   0%|          | 0/5 [00:00<?, ?it/s]\u001B[A\n",
      "Evaluation:  20%|██        | 1/5 [00:00<00:01,  2.55it/s]\u001B[A\n",
      "Evaluation:  80%|████████  | 4/5 [00:00<00:00,  9.16it/s]\u001B[A\n",
      "Random Search:  34%|███▍      | 34/100 [00:21<00:42,  1.55it/s]\n",
      "Evaluation:   0%|          | 0/5 [00:00<?, ?it/s]\u001B[A\n",
      "Evaluation:  20%|██        | 1/5 [00:00<00:01,  2.41it/s]\u001B[A\n",
      "Evaluation:  80%|████████  | 4/5 [00:00<00:00,  8.80it/s]\u001B[A\n",
      "Random Search:  35%|███▌      | 35/100 [00:22<00:42,  1.53it/s]\n",
      "Evaluation:   0%|          | 0/5 [00:00<?, ?it/s]\u001B[A\n",
      "Evaluation:  20%|██        | 1/5 [00:00<00:01,  2.66it/s]\u001B[A\n",
      "Evaluation:  80%|████████  | 4/5 [00:00<00:00,  9.40it/s]\u001B[A\n",
      "Random Search:  36%|███▌      | 36/100 [00:22<00:40,  1.56it/s]\n",
      "Evaluation:   0%|          | 0/5 [00:00<?, ?it/s]\u001B[A\n",
      "Evaluation:  20%|██        | 1/5 [00:00<00:01,  2.51it/s]\u001B[A\n",
      "Evaluation:  80%|████████  | 4/5 [00:00<00:00,  9.16it/s]\u001B[A\n",
      "Random Search:  37%|███▋      | 37/100 [00:23<00:40,  1.55it/s]\n",
      "Evaluation:   0%|          | 0/5 [00:00<?, ?it/s]\u001B[A\n",
      "Evaluation:  20%|██        | 1/5 [00:00<00:01,  2.62it/s]\u001B[A\n",
      "Evaluation:  60%|██████    | 3/5 [00:00<00:00,  7.27it/s]\u001B[A\n",
      "Evaluation: 100%|██████████| 5/5 [00:00<00:00,  9.97it/s]\u001B[A\n",
      "Random Search:  38%|███▊      | 38/100 [00:23<00:40,  1.54it/s]\n",
      "Evaluation:   0%|          | 0/5 [00:00<?, ?it/s]\u001B[A\n",
      "Evaluation:  20%|██        | 1/5 [00:00<00:01,  2.47it/s]\u001B[A\n",
      "Evaluation:  80%|████████  | 4/5 [00:00<00:00,  8.73it/s]\u001B[A\n",
      "Random Search:  39%|███▉      | 39/100 [00:24<00:40,  1.52it/s]\n",
      "Evaluation:   0%|          | 0/5 [00:00<?, ?it/s]\u001B[A\n",
      "Evaluation:  20%|██        | 1/5 [00:00<00:01,  2.55it/s]\u001B[A\n",
      "Evaluation:  80%|████████  | 4/5 [00:00<00:00,  9.33it/s]\u001B[A\n",
      "Random Search:  40%|████      | 40/100 [00:25<00:38,  1.54it/s]\n",
      "Evaluation:   0%|          | 0/5 [00:00<?, ?it/s]\u001B[A\n",
      "Evaluation:  20%|██        | 1/5 [00:00<00:01,  2.48it/s]\u001B[A\n",
      "Evaluation:  60%|██████    | 3/5 [00:00<00:00,  6.89it/s]\u001B[A\n",
      "Evaluation: 100%|██████████| 5/5 [00:00<00:00, 10.20it/s]\u001B[A\n",
      "Random Search:  41%|████      | 41/100 [00:25<00:38,  1.54it/s]\n",
      "Evaluation:   0%|          | 0/5 [00:00<?, ?it/s]\u001B[A\n",
      "Evaluation:  20%|██        | 1/5 [00:00<00:01,  2.61it/s]\u001B[A\n",
      "Evaluation:  80%|████████  | 4/5 [00:00<00:00,  9.59it/s]\u001B[A\n",
      "Random Search:  42%|████▏     | 42/100 [00:26<00:37,  1.55it/s]\n",
      "Evaluation:   0%|          | 0/5 [00:00<?, ?it/s]\u001B[A\n",
      "Evaluation:  20%|██        | 1/5 [00:00<00:01,  2.59it/s]\u001B[A\n",
      "Evaluation:  80%|████████  | 4/5 [00:00<00:00,  9.52it/s]\u001B[A\n",
      "Random Search:  43%|████▎     | 43/100 [00:27<00:36,  1.55it/s]\n",
      "Evaluation:   0%|          | 0/5 [00:00<?, ?it/s]\u001B[A\n",
      "Evaluation:  20%|██        | 1/5 [00:00<00:01,  2.42it/s]\u001B[A\n",
      "Evaluation:  80%|████████  | 4/5 [00:00<00:00,  8.75it/s]\u001B[A\n",
      "Random Search:  44%|████▍     | 44/100 [00:27<00:36,  1.51it/s]\n",
      "Evaluation:   0%|          | 0/5 [00:00<?, ?it/s]\u001B[A\n",
      "Evaluation:  20%|██        | 1/5 [00:00<00:01,  2.44it/s]\u001B[A\n",
      "Evaluation:  80%|████████  | 4/5 [00:00<00:00,  9.12it/s]\u001B[A\n",
      "Random Search:  45%|████▌     | 45/100 [00:28<00:36,  1.51it/s]\n",
      "Evaluation:   0%|          | 0/5 [00:00<?, ?it/s]\u001B[A\n",
      "Evaluation:  20%|██        | 1/5 [00:00<00:01,  2.71it/s]\u001B[A\n",
      "Evaluation:  80%|████████  | 4/5 [00:00<00:00,  9.99it/s]\u001B[A\n",
      "Random Search:  46%|████▌     | 46/100 [00:29<00:35,  1.54it/s]\n",
      "Evaluation:   0%|          | 0/5 [00:00<?, ?it/s]\u001B[A\n",
      "Evaluation:  20%|██        | 1/5 [00:00<00:01,  2.59it/s]\u001B[A\n",
      "Evaluation:  80%|████████  | 4/5 [00:00<00:00,  9.17it/s]\u001B[A\n",
      "Random Search:  47%|████▋     | 47/100 [00:29<00:34,  1.54it/s]\n",
      "Evaluation:   0%|          | 0/5 [00:00<?, ?it/s]\u001B[A\n",
      "Evaluation:  20%|██        | 1/5 [00:00<00:01,  2.54it/s]\u001B[A\n",
      "Evaluation:  80%|████████  | 4/5 [00:00<00:00,  9.53it/s]\u001B[A\n",
      "Random Search:  48%|████▊     | 48/100 [00:30<00:33,  1.54it/s]\n",
      "Evaluation:   0%|          | 0/5 [00:00<?, ?it/s]\u001B[A\n",
      "Evaluation:  20%|██        | 1/5 [00:00<00:01,  2.29it/s]\u001B[A\n",
      "Evaluation:  80%|████████  | 4/5 [00:00<00:00,  8.58it/s]\u001B[A\n",
      "Random Search:  49%|████▉     | 49/100 [00:31<00:34,  1.50it/s]\n",
      "Evaluation:   0%|          | 0/5 [00:00<?, ?it/s]\u001B[A\n",
      "Evaluation:  20%|██        | 1/5 [00:00<00:01,  2.58it/s]\u001B[A\n",
      "Evaluation:  80%|████████  | 4/5 [00:00<00:00,  9.28it/s]\u001B[A\n",
      "Random Search:  50%|█████     | 50/100 [00:31<00:32,  1.52it/s]\n",
      "Evaluation:   0%|          | 0/5 [00:00<?, ?it/s]\u001B[A\n",
      "Evaluation:  20%|██        | 1/5 [00:00<00:01,  2.43it/s]\u001B[A\n",
      "Evaluation:  80%|████████  | 4/5 [00:00<00:00,  9.01it/s]\u001B[A\n",
      "Random Search:  51%|█████     | 51/100 [00:32<00:32,  1.51it/s]\n",
      "Evaluation:   0%|          | 0/5 [00:00<?, ?it/s]\u001B[A\n",
      "Evaluation:  20%|██        | 1/5 [00:00<00:01,  2.56it/s]\u001B[A\n",
      "Evaluation:  80%|████████  | 4/5 [00:00<00:00,  9.42it/s]\u001B[A\n",
      "Random Search:  52%|█████▏    | 52/100 [00:33<00:31,  1.52it/s]\n",
      "Evaluation:   0%|          | 0/5 [00:00<?, ?it/s]\u001B[A\n",
      "Evaluation:  20%|██        | 1/5 [00:00<00:01,  2.60it/s]\u001B[A\n",
      "Evaluation:  80%|████████  | 4/5 [00:00<00:00,  9.54it/s]\u001B[A\n",
      "Random Search:  53%|█████▎    | 53/100 [00:33<00:30,  1.52it/s]\n",
      "Evaluation:   0%|          | 0/5 [00:00<?, ?it/s]\u001B[A\n",
      "Evaluation:  20%|██        | 1/5 [00:00<00:01,  2.66it/s]\u001B[A\n",
      "Evaluation:  80%|████████  | 4/5 [00:00<00:00,  9.76it/s]\u001B[A\n",
      "Random Search:  54%|█████▍    | 54/100 [00:34<00:29,  1.54it/s]\n",
      "Evaluation:   0%|          | 0/5 [00:00<?, ?it/s]\u001B[A\n",
      "Evaluation:  20%|██        | 1/5 [00:00<00:01,  2.30it/s]\u001B[A\n",
      "Evaluation:  80%|████████  | 4/5 [00:00<00:00,  8.55it/s]\u001B[A\n",
      "Random Search:  55%|█████▌    | 55/100 [00:35<00:30,  1.49it/s]\n",
      "Evaluation:   0%|          | 0/5 [00:00<?, ?it/s]\u001B[A\n",
      "Evaluation:  20%|██        | 1/5 [00:00<00:01,  2.52it/s]\u001B[A\n",
      "Evaluation:  80%|████████  | 4/5 [00:00<00:00,  9.10it/s]\u001B[A\n",
      "Random Search:  56%|█████▌    | 56/100 [00:35<00:29,  1.49it/s]\n",
      "Evaluation:   0%|          | 0/5 [00:00<?, ?it/s]\u001B[A\n",
      "Evaluation:  20%|██        | 1/5 [00:00<00:01,  2.52it/s]\u001B[A\n",
      "Evaluation:  80%|████████  | 4/5 [00:00<00:00,  9.10it/s]\u001B[A\n",
      "Random Search:  57%|█████▋    | 57/100 [00:36<00:28,  1.51it/s]\n",
      "Evaluation:   0%|          | 0/5 [00:00<?, ?it/s]\u001B[A\n",
      "Evaluation:  20%|██        | 1/5 [00:00<00:01,  2.70it/s]\u001B[A\n",
      "Evaluation:  80%|████████  | 4/5 [00:00<00:00, 10.16it/s]\u001B[A\n",
      "Random Search:  58%|█████▊    | 58/100 [00:37<00:27,  1.54it/s]\n",
      "Evaluation:   0%|          | 0/5 [00:00<?, ?it/s]\u001B[A\n",
      "Evaluation:  20%|██        | 1/5 [00:00<00:01,  2.61it/s]\u001B[A\n",
      "Evaluation:  80%|████████  | 4/5 [00:00<00:00,  9.62it/s]\u001B[A\n",
      "Random Search:  59%|█████▉    | 59/100 [00:37<00:26,  1.55it/s]\n",
      "Evaluation:   0%|          | 0/5 [00:00<?, ?it/s]\u001B[A\n",
      "Evaluation:  20%|██        | 1/5 [00:00<00:01,  2.55it/s]\u001B[A\n",
      "Evaluation:  80%|████████  | 4/5 [00:00<00:00,  9.75it/s]\u001B[A\n",
      "Random Search:  60%|██████    | 60/100 [00:38<00:25,  1.55it/s]\n",
      "Evaluation:   0%|          | 0/5 [00:00<?, ?it/s]\u001B[A\n",
      "Evaluation:  20%|██        | 1/5 [00:00<00:01,  2.29it/s]\u001B[A\n",
      "Evaluation:  80%|████████  | 4/5 [00:00<00:00,  8.65it/s]\u001B[A\n",
      "Random Search:  61%|██████    | 61/100 [00:39<00:25,  1.50it/s]\n",
      "Evaluation:   0%|          | 0/5 [00:00<?, ?it/s]\u001B[A\n",
      "Evaluation:  20%|██        | 1/5 [00:00<00:01,  2.69it/s]\u001B[A\n",
      "Evaluation: 100%|██████████| 5/5 [00:00<00:00,  9.93it/s]\u001B[A\n",
      "Random Search:  62%|██████▏   | 62/100 [00:39<00:24,  1.53it/s]\n",
      "Evaluation:   0%|          | 0/5 [00:00<?, ?it/s]\u001B[A\n",
      "Evaluation:  20%|██        | 1/5 [00:00<00:01,  2.49it/s]\u001B[A\n",
      "Evaluation:  80%|████████  | 4/5 [00:00<00:00,  9.10it/s]\u001B[A\n",
      "Random Search:  63%|██████▎   | 63/100 [00:40<00:24,  1.53it/s]\n",
      "Evaluation:   0%|          | 0/5 [00:00<?, ?it/s]\u001B[A\n",
      "Evaluation:  20%|██        | 1/5 [00:00<00:01,  2.61it/s]\u001B[A\n",
      "Evaluation:  80%|████████  | 4/5 [00:00<00:00,  9.80it/s]\u001B[A\n",
      "Random Search:  64%|██████▍   | 64/100 [00:40<00:23,  1.54it/s]\n",
      "Evaluation:   0%|          | 0/5 [00:00<?, ?it/s]\u001B[A\n",
      "Evaluation:  20%|██        | 1/5 [00:00<00:01,  2.56it/s]\u001B[A\n",
      "Evaluation:  80%|████████  | 4/5 [00:00<00:00,  9.37it/s]\u001B[A\n",
      "Random Search:  65%|██████▌   | 65/100 [00:41<00:22,  1.54it/s]\n",
      "Evaluation:   0%|          | 0/5 [00:00<?, ?it/s]\u001B[A\n",
      "Evaluation:  20%|██        | 1/5 [00:00<00:01,  2.64it/s]\u001B[A\n",
      "Evaluation:  80%|████████  | 4/5 [00:00<00:00,  9.94it/s]\u001B[A\n",
      "Random Search:  66%|██████▌   | 66/100 [00:42<00:21,  1.55it/s]\n",
      "Evaluation:   0%|          | 0/5 [00:00<?, ?it/s]\u001B[A\n",
      "Evaluation:  20%|██        | 1/5 [00:00<00:01,  2.68it/s]\u001B[A\n",
      "Evaluation:  80%|████████  | 4/5 [00:00<00:00,  9.88it/s]\u001B[A\n",
      "Random Search:  67%|██████▋   | 67/100 [00:42<00:20,  1.57it/s]\n",
      "Evaluation:   0%|          | 0/5 [00:00<?, ?it/s]\u001B[A\n",
      "Evaluation:  20%|██        | 1/5 [00:00<00:01,  2.08it/s]\u001B[A\n",
      "Evaluation:  80%|████████  | 4/5 [00:00<00:00,  8.02it/s]\u001B[A\n",
      "Random Search:  68%|██████▊   | 68/100 [00:43<00:21,  1.50it/s]\n",
      "Evaluation:   0%|          | 0/5 [00:00<?, ?it/s]\u001B[A\n",
      "Evaluation:  20%|██        | 1/5 [00:00<00:01,  2.66it/s]\u001B[A\n",
      "Evaluation:  80%|████████  | 4/5 [00:00<00:00,  9.82it/s]\u001B[A\n",
      "Random Search:  69%|██████▉   | 69/100 [00:44<00:20,  1.54it/s]\n",
      "Evaluation:   0%|          | 0/5 [00:00<?, ?it/s]\u001B[A\n",
      "Evaluation:  20%|██        | 1/5 [00:00<00:01,  2.73it/s]\u001B[A\n",
      "Evaluation:  80%|████████  | 4/5 [00:00<00:00,  9.86it/s]\u001B[A\n",
      "Random Search:  70%|███████   | 70/100 [00:44<00:19,  1.57it/s]\n",
      "Evaluation:   0%|          | 0/5 [00:00<?, ?it/s]\u001B[A\n",
      "Evaluation:  20%|██        | 1/5 [00:00<00:01,  2.66it/s]\u001B[A\n",
      "Evaluation:  80%|████████  | 4/5 [00:00<00:00, 10.02it/s]\u001B[A\n",
      "Random Search:  71%|███████   | 71/100 [00:45<00:18,  1.59it/s]\n",
      "Evaluation:   0%|          | 0/5 [00:00<?, ?it/s]\u001B[A\n",
      "Evaluation:  20%|██        | 1/5 [00:00<00:01,  2.69it/s]\u001B[A\n",
      "Evaluation:  80%|████████  | 4/5 [00:00<00:00,  9.92it/s]\u001B[A\n",
      "Random Search:  72%|███████▏  | 72/100 [00:46<00:17,  1.61it/s]\n",
      "Evaluation:   0%|          | 0/5 [00:00<?, ?it/s]\u001B[A\n",
      "Evaluation:  20%|██        | 1/5 [00:00<00:01,  2.67it/s]\u001B[A\n",
      "Evaluation:  80%|████████  | 4/5 [00:00<00:00,  9.70it/s]\u001B[A\n",
      "Random Search:  73%|███████▎  | 73/100 [00:46<00:16,  1.62it/s]\n",
      "Evaluation:   0%|          | 0/5 [00:00<?, ?it/s]\u001B[A\n",
      "Evaluation:  20%|██        | 1/5 [00:00<00:01,  2.72it/s]\u001B[A\n",
      "Evaluation:  80%|████████  | 4/5 [00:00<00:00,  9.97it/s]\u001B[A\n",
      "Random Search:  74%|███████▍  | 74/100 [00:47<00:15,  1.63it/s]\n",
      "Evaluation:   0%|          | 0/5 [00:00<?, ?it/s]\u001B[A\n",
      "Evaluation:  20%|██        | 1/5 [00:00<00:01,  2.58it/s]\u001B[A\n",
      "Evaluation:  60%|██████    | 3/5 [00:00<00:00,  7.06it/s]\u001B[A\n",
      "Random Search:  75%|███████▌  | 75/100 [00:47<00:15,  1.62it/s]\n",
      "Evaluation:   0%|          | 0/5 [00:00<?, ?it/s]\u001B[A\n",
      "Evaluation:  20%|██        | 1/5 [00:00<00:01,  2.55it/s]\u001B[A\n",
      "Evaluation:  80%|████████  | 4/5 [00:00<00:00,  8.89it/s]\u001B[A\n",
      "Random Search:  76%|███████▌  | 76/100 [00:48<00:15,  1.60it/s]\n",
      "Evaluation:   0%|          | 0/5 [00:00<?, ?it/s]\u001B[A\n",
      "Evaluation:  20%|██        | 1/5 [00:00<00:01,  2.56it/s]\u001B[A\n",
      "Evaluation:  80%|████████  | 4/5 [00:00<00:00,  8.83it/s]\u001B[A\n",
      "Random Search:  77%|███████▋  | 77/100 [00:49<00:14,  1.59it/s]\n",
      "Evaluation:   0%|          | 0/5 [00:00<?, ?it/s]\u001B[A\n",
      "Evaluation:  20%|██        | 1/5 [00:00<00:01,  2.50it/s]\u001B[A\n",
      "Evaluation:  80%|████████  | 4/5 [00:00<00:00,  9.48it/s]\u001B[A\n",
      "Random Search:  78%|███████▊  | 78/100 [00:49<00:14,  1.56it/s]\n",
      "Evaluation:   0%|          | 0/5 [00:00<?, ?it/s]\u001B[A\n",
      "Evaluation:  20%|██        | 1/5 [00:00<00:01,  2.53it/s]\u001B[A\n",
      "Evaluation:  80%|████████  | 4/5 [00:00<00:00,  9.63it/s]\u001B[A\n",
      "Random Search:  79%|███████▉  | 79/100 [00:50<00:13,  1.57it/s]\n",
      "Evaluation:   0%|          | 0/5 [00:00<?, ?it/s]\u001B[A\n",
      "Evaluation:  20%|██        | 1/5 [00:00<00:01,  2.51it/s]\u001B[A\n",
      "Evaluation:  80%|████████  | 4/5 [00:00<00:00,  9.45it/s]\u001B[A\n",
      "Random Search:  80%|████████  | 80/100 [00:51<00:12,  1.55it/s]\n",
      "Evaluation:   0%|          | 0/5 [00:00<?, ?it/s]\u001B[A\n",
      "Evaluation:  20%|██        | 1/5 [00:00<00:01,  2.61it/s]\u001B[A\n",
      "Evaluation:  80%|████████  | 4/5 [00:00<00:00,  9.49it/s]\u001B[A\n",
      "Random Search:  81%|████████  | 81/100 [00:51<00:12,  1.57it/s]\n",
      "Evaluation:   0%|          | 0/5 [00:00<?, ?it/s]\u001B[A\n",
      "Evaluation:  20%|██        | 1/5 [00:00<00:01,  2.63it/s]\u001B[A\n",
      "Evaluation:  80%|████████  | 4/5 [00:00<00:00,  9.64it/s]\u001B[A\n",
      "Random Search:  82%|████████▏ | 82/100 [00:52<00:11,  1.58it/s]\n",
      "Evaluation:   0%|          | 0/5 [00:00<?, ?it/s]\u001B[A\n",
      "Evaluation:  20%|██        | 1/5 [00:00<00:01,  2.63it/s]\u001B[A\n",
      "Evaluation:  80%|████████  | 4/5 [00:00<00:00,  9.27it/s]\u001B[A\n",
      "Random Search:  83%|████████▎ | 83/100 [00:52<00:10,  1.59it/s]\n",
      "Evaluation:   0%|          | 0/5 [00:00<?, ?it/s]\u001B[A\n",
      "Evaluation:  20%|██        | 1/5 [00:00<00:01,  2.65it/s]\u001B[A\n",
      "Evaluation:  80%|████████  | 4/5 [00:00<00:00,  9.23it/s]\u001B[A\n",
      "Random Search:  84%|████████▍ | 84/100 [00:53<00:10,  1.59it/s]\n",
      "Evaluation:   0%|          | 0/5 [00:00<?, ?it/s]\u001B[A\n",
      "Evaluation:  20%|██        | 1/5 [00:00<00:01,  2.59it/s]\u001B[A\n",
      "Evaluation:  60%|██████    | 3/5 [00:00<00:00,  7.25it/s]\u001B[A\n",
      "Evaluation: 100%|██████████| 5/5 [00:00<00:00, 10.42it/s]\u001B[A\n",
      "Random Search:  85%|████████▌ | 85/100 [00:54<00:09,  1.58it/s]\n",
      "Evaluation:   0%|          | 0/5 [00:00<?, ?it/s]\u001B[A\n",
      "Evaluation:  20%|██        | 1/5 [00:00<00:01,  2.61it/s]\u001B[A\n",
      "Evaluation:  80%|████████  | 4/5 [00:00<00:00,  9.46it/s]\u001B[A\n",
      "Random Search:  86%|████████▌ | 86/100 [00:54<00:08,  1.59it/s]\n",
      "Evaluation:   0%|          | 0/5 [00:00<?, ?it/s]\u001B[A\n",
      "Evaluation:  20%|██        | 1/5 [00:00<00:01,  2.64it/s]\u001B[A\n",
      "Evaluation:  80%|████████  | 4/5 [00:00<00:00,  9.57it/s]\u001B[A\n",
      "Random Search:  87%|████████▋ | 87/100 [00:55<00:08,  1.60it/s]\n",
      "Evaluation:   0%|          | 0/5 [00:00<?, ?it/s]\u001B[A\n",
      "Evaluation:  20%|██        | 1/5 [00:00<00:01,  2.61it/s]\u001B[A\n",
      "Evaluation:  80%|████████  | 4/5 [00:00<00:00,  9.83it/s]\u001B[A\n",
      "Random Search:  88%|████████▊ | 88/100 [00:56<00:07,  1.60it/s]\n",
      "Evaluation:   0%|          | 0/5 [00:00<?, ?it/s]\u001B[A\n",
      "Evaluation:  20%|██        | 1/5 [00:00<00:01,  2.73it/s]\u001B[A\n",
      "Evaluation:  80%|████████  | 4/5 [00:00<00:00, 10.03it/s]\u001B[A\n",
      "Random Search:  89%|████████▉ | 89/100 [00:56<00:06,  1.62it/s]\n",
      "Evaluation:   0%|          | 0/5 [00:00<?, ?it/s]\u001B[A\n",
      "Evaluation:  20%|██        | 1/5 [00:00<00:01,  2.44it/s]\u001B[A\n",
      "Evaluation:  80%|████████  | 4/5 [00:00<00:00,  8.75it/s]\u001B[A\n",
      "Random Search:  90%|█████████ | 90/100 [00:57<00:06,  1.60it/s]\n",
      "Evaluation:   0%|          | 0/5 [00:00<?, ?it/s]\u001B[A\n",
      "Evaluation:  20%|██        | 1/5 [00:00<00:01,  2.72it/s]\u001B[A\n",
      "Evaluation:  80%|████████  | 4/5 [00:00<00:00,  9.96it/s]\u001B[A\n",
      "Random Search:  91%|█████████ | 91/100 [00:57<00:05,  1.61it/s]\n",
      "Evaluation:   0%|          | 0/5 [00:00<?, ?it/s]\u001B[A\n",
      "Evaluation:  20%|██        | 1/5 [00:00<00:01,  2.69it/s]\u001B[A\n",
      "Evaluation:  80%|████████  | 4/5 [00:00<00:00,  9.47it/s]\u001B[A\n",
      "Random Search:  92%|█████████▏| 92/100 [00:58<00:04,  1.61it/s]\n",
      "Evaluation:   0%|          | 0/5 [00:00<?, ?it/s]\u001B[A\n",
      "Evaluation:  20%|██        | 1/5 [00:00<00:01,  2.58it/s]\u001B[A\n",
      "Evaluation:  80%|████████  | 4/5 [00:00<00:00,  9.23it/s]\u001B[A\n",
      "Random Search:  93%|█████████▎| 93/100 [00:59<00:04,  1.61it/s]\n",
      "Evaluation:   0%|          | 0/5 [00:00<?, ?it/s]\u001B[A\n",
      "Evaluation:  20%|██        | 1/5 [00:00<00:01,  2.57it/s]\u001B[A\n",
      "Evaluation:  80%|████████  | 4/5 [00:00<00:00,  9.51it/s]\u001B[A\n",
      "Random Search:  94%|█████████▍| 94/100 [00:59<00:03,  1.60it/s]\n",
      "Evaluation:   0%|          | 0/5 [00:00<?, ?it/s]\u001B[A\n",
      "Evaluation:  20%|██        | 1/5 [00:00<00:01,  2.71it/s]\u001B[A\n",
      "Evaluation:  80%|████████  | 4/5 [00:00<00:00,  9.80it/s]\u001B[A\n",
      "Random Search:  95%|█████████▌| 95/100 [01:00<00:03,  1.62it/s]\n",
      "Evaluation:   0%|          | 0/5 [00:00<?, ?it/s]\u001B[A\n",
      "Evaluation:  20%|██        | 1/5 [00:00<00:01,  2.25it/s]\u001B[A\n",
      "Evaluation:  80%|████████  | 4/5 [00:00<00:00,  8.43it/s]\u001B[A\n",
      "Random Search:  96%|█████████▌| 96/100 [01:01<00:02,  1.56it/s]\n",
      "Evaluation:   0%|          | 0/5 [00:00<?, ?it/s]\u001B[A\n",
      "Evaluation:  20%|██        | 1/5 [00:00<00:01,  2.73it/s]\u001B[A\n",
      "Evaluation:  80%|████████  | 4/5 [00:00<00:00,  9.70it/s]\u001B[A\n",
      "Random Search:  97%|█████████▋| 97/100 [01:01<00:01,  1.58it/s]\n",
      "Evaluation:   0%|          | 0/5 [00:00<?, ?it/s]\u001B[A\n",
      "Evaluation:  20%|██        | 1/5 [00:00<00:01,  2.68it/s]\u001B[A\n",
      "Evaluation:  80%|████████  | 4/5 [00:00<00:00,  9.93it/s]\u001B[A\n",
      "Random Search:  98%|█████████▊| 98/100 [01:02<00:01,  1.58it/s]\n",
      "Evaluation:   0%|          | 0/5 [00:00<?, ?it/s]\u001B[A\n",
      "Evaluation:  20%|██        | 1/5 [00:00<00:01,  2.58it/s]\u001B[A\n",
      "Evaluation:  80%|████████  | 4/5 [00:00<00:00,  9.40it/s]\u001B[A\n",
      "Random Search:  99%|█████████▉| 99/100 [01:03<00:00,  1.57it/s]\n",
      "Evaluation:   0%|          | 0/5 [00:00<?, ?it/s]\u001B[A\n",
      "Evaluation:  20%|██        | 1/5 [00:00<00:01,  2.66it/s]\u001B[A\n",
      "Evaluation:  80%|████████  | 4/5 [00:00<00:00,  9.51it/s]\u001B[A\n",
      "Random Search: 100%|██████████| 100/100 [01:03<00:00,  1.57it/s]"
     ]
    },
    {
     "name": "stdout",
     "output_type": "stream",
     "text": [
      "best architecture: [2, 1, 2, 0, 2, 1, 2, 2] (test_accuracy=53.720%)\n"
     ]
    },
    {
     "name": "stderr",
     "output_type": "stream",
     "text": [
      "\n"
     ]
    }
   ],
   "execution_count": 28
  },
  {
   "cell_type": "markdown",
   "id": "48b2a50e",
   "metadata": {},
   "source": [
    "## Train found architecture from scratch"
   ]
  },
  {
   "cell_type": "markdown",
   "id": "6e45eb2d",
   "metadata": {},
   "source": [
    "Go to `Create your baseline model` section.\n",
    "\n",
    "Change model definition to this to build unitialized best architecture from the search space:\n",
    "\n",
    "```python\n",
    "model = supernet18(num_classes=10, zero_init_residual=True, channel_multipliers=channel_multipliers)\n",
    "model.to(device=device)\n",
    "model.sample(best_architecture)\n",
    "```\n",
    "\n",
    "After this, simply run all the cells in that section."
   ]
  },
  {
   "cell_type": "code",
   "execution_count": null,
   "id": "3d15fa78",
   "metadata": {},
   "outputs": [],
   "source": [
    "trained_best_model = train_best_architecture(\n",
    "    best_architecture=best_arch,\n",
    "    train_loader=train_dataloader,\n",
    "    val_loader=test_dataloader,\n",
    "    device=device,\n",
    ")"
   ]
  }
 ],
 "metadata": {
  "kernelspec": {
   "display_name": "Python 3",
   "language": "python",
   "name": "python3"
  },
  "language_info": {
   "codemirror_mode": {
    "name": "ipython",
    "version": 3
   },
   "file_extension": ".py",
   "mimetype": "text/x-python",
   "name": "python",
   "nbconvert_exporter": "python",
   "pygments_lexer": "ipython3",
   "version": "3.8.5"
  }
 },
 "nbformat": 4,
 "nbformat_minor": 5
}
